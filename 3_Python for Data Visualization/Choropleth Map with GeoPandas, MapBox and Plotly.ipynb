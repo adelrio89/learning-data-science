{
 "cells": [
  {
   "cell_type": "code",
   "execution_count": 1,
   "metadata": {},
   "outputs": [],
   "source": [
    "import geopandas as gpd"
   ]
  },
  {
   "cell_type": "code",
   "execution_count": 118,
   "metadata": {},
   "outputs": [],
   "source": [
    "counties = gpd.read_file(\"C:\\datasets\\colorado_population.geojson\")"
   ]
  },
  {
   "cell_type": "code",
   "execution_count": 119,
   "metadata": {},
   "outputs": [
    {
     "data": {
      "text/html": [
       "<div>\n",
       "<style scoped>\n",
       "    .dataframe tbody tr th:only-of-type {\n",
       "        vertical-align: middle;\n",
       "    }\n",
       "\n",
       "    .dataframe tbody tr th {\n",
       "        vertical-align: top;\n",
       "    }\n",
       "\n",
       "    .dataframe thead th {\n",
       "        text-align: right;\n",
       "    }\n",
       "</style>\n",
       "<table border=\"1\" class=\"dataframe\">\n",
       "  <thead>\n",
       "    <tr style=\"text-align: right;\">\n",
       "      <th></th>\n",
       "      <th>geoid</th>\n",
       "      <th>name</th>\n",
       "      <th>geometry</th>\n",
       "    </tr>\n",
       "  </thead>\n",
       "  <tbody>\n",
       "    <tr>\n",
       "      <th>0</th>\n",
       "      <td>05000US08023</td>\n",
       "      <td>Costilla County, CO</td>\n",
       "      <td>(POLYGON ((-105.738409 37.30676, -105.736221 3...</td>\n",
       "    </tr>\n",
       "    <tr>\n",
       "      <th>1</th>\n",
       "      <td>05000US08057</td>\n",
       "      <td>Jackson County, CO</td>\n",
       "      <td>(POLYGON ((-106.869827 40.956462, -106.87322 4...</td>\n",
       "    </tr>\n",
       "    <tr>\n",
       "      <th>2</th>\n",
       "      <td>05000US08015</td>\n",
       "      <td>Chaffee County, CO</td>\n",
       "      <td>(POLYGON ((-106.451867 38.698343, -106.450135 ...</td>\n",
       "    </tr>\n",
       "    <tr>\n",
       "      <th>3</th>\n",
       "      <td>05000US08039</td>\n",
       "      <td>Elbert County, CO</td>\n",
       "      <td>(POLYGON ((-104.662911 39.13184, -104.662808 3...</td>\n",
       "    </tr>\n",
       "    <tr>\n",
       "      <th>4</th>\n",
       "      <td>05000US08119</td>\n",
       "      <td>Teller County, CO</td>\n",
       "      <td>(POLYGON ((-105.328925 38.857561, -105.328153 ...</td>\n",
       "    </tr>\n",
       "  </tbody>\n",
       "</table>\n",
       "</div>"
      ],
      "text/plain": [
       "          geoid                 name  \\\n",
       "0  05000US08023  Costilla County, CO   \n",
       "1  05000US08057   Jackson County, CO   \n",
       "2  05000US08015   Chaffee County, CO   \n",
       "3  05000US08039    Elbert County, CO   \n",
       "4  05000US08119    Teller County, CO   \n",
       "\n",
       "                                            geometry  \n",
       "0  (POLYGON ((-105.738409 37.30676, -105.736221 3...  \n",
       "1  (POLYGON ((-106.869827 40.956462, -106.87322 4...  \n",
       "2  (POLYGON ((-106.451867 38.698343, -106.450135 ...  \n",
       "3  (POLYGON ((-104.662911 39.13184, -104.662808 3...  \n",
       "4  (POLYGON ((-105.328925 38.857561, -105.328153 ...  "
      ]
     },
     "execution_count": 119,
     "metadata": {},
     "output_type": "execute_result"
    }
   ],
   "source": [
    "counties.head()"
   ]
  },
  {
   "cell_type": "code",
   "execution_count": 120,
   "metadata": {},
   "outputs": [],
   "source": [
    "data = gpd.pd.read_csv('C:\\datasets\\Population_Projections_in_Colorado.csv')"
   ]
  },
  {
   "cell_type": "code",
   "execution_count": 121,
   "metadata": {},
   "outputs": [],
   "source": [
    "data_2015 = data[data['year']==2015]"
   ]
  },
  {
   "cell_type": "code",
   "execution_count": 122,
   "metadata": {},
   "outputs": [
    {
     "data": {
      "text/html": [
       "<div>\n",
       "<style scoped>\n",
       "    .dataframe tbody tr th:only-of-type {\n",
       "        vertical-align: middle;\n",
       "    }\n",
       "\n",
       "    .dataframe tbody tr th {\n",
       "        vertical-align: top;\n",
       "    }\n",
       "\n",
       "    .dataframe thead th {\n",
       "        text-align: right;\n",
       "    }\n",
       "</style>\n",
       "<table border=\"1\" class=\"dataframe\">\n",
       "  <thead>\n",
       "    <tr style=\"text-align: right;\">\n",
       "      <th></th>\n",
       "      <th>county</th>\n",
       "      <th>fipsCode</th>\n",
       "      <th>year</th>\n",
       "      <th>age</th>\n",
       "      <th>malePopulation</th>\n",
       "      <th>femalePopulation</th>\n",
       "      <th>totalPopulation</th>\n",
       "      <th>dataType</th>\n",
       "    </tr>\n",
       "  </thead>\n",
       "  <tbody>\n",
       "    <tr>\n",
       "      <th>129136</th>\n",
       "      <td>Dolores</td>\n",
       "      <td>33</td>\n",
       "      <td>2015</td>\n",
       "      <td>98</td>\n",
       "      <td>0.000000</td>\n",
       "      <td>0.000000</td>\n",
       "      <td>0.00000</td>\n",
       "      <td>Estimate</td>\n",
       "    </tr>\n",
       "    <tr>\n",
       "      <th>148803</th>\n",
       "      <td>Adams</td>\n",
       "      <td>1</td>\n",
       "      <td>2015</td>\n",
       "      <td>0</td>\n",
       "      <td>3801.670505</td>\n",
       "      <td>3649.799424</td>\n",
       "      <td>7451.46993</td>\n",
       "      <td>Estimate</td>\n",
       "    </tr>\n",
       "  </tbody>\n",
       "</table>\n",
       "</div>"
      ],
      "text/plain": [
       "         county  fipsCode  year  age  malePopulation  femalePopulation  \\\n",
       "129136  Dolores        33  2015   98        0.000000          0.000000   \n",
       "148803    Adams         1  2015    0     3801.670505       3649.799424   \n",
       "\n",
       "        totalPopulation  dataType  \n",
       "129136          0.00000  Estimate  \n",
       "148803       7451.46993  Estimate  "
      ]
     },
     "execution_count": 122,
     "metadata": {},
     "output_type": "execute_result"
    }
   ],
   "source": [
    "data_2015.head(2)"
   ]
  },
  {
   "cell_type": "code",
   "execution_count": 123,
   "metadata": {},
   "outputs": [],
   "source": [
    "data_grouped = data_2015.groupby(['county','year'],as_index=False).sum().copy()"
   ]
  },
  {
   "cell_type": "code",
   "execution_count": 124,
   "metadata": {},
   "outputs": [
    {
     "data": {
      "text/html": [
       "<div>\n",
       "<style scoped>\n",
       "    .dataframe tbody tr th:only-of-type {\n",
       "        vertical-align: middle;\n",
       "    }\n",
       "\n",
       "    .dataframe tbody tr th {\n",
       "        vertical-align: top;\n",
       "    }\n",
       "\n",
       "    .dataframe thead th {\n",
       "        text-align: right;\n",
       "    }\n",
       "</style>\n",
       "<table border=\"1\" class=\"dataframe\">\n",
       "  <thead>\n",
       "    <tr style=\"text-align: right;\">\n",
       "      <th></th>\n",
       "      <th>county</th>\n",
       "      <th>year</th>\n",
       "      <th>fipsCode</th>\n",
       "      <th>age</th>\n",
       "      <th>malePopulation</th>\n",
       "      <th>femalePopulation</th>\n",
       "      <th>totalPopulation</th>\n",
       "    </tr>\n",
       "  </thead>\n",
       "  <tbody>\n",
       "    <tr>\n",
       "      <th>0</th>\n",
       "      <td>Adams</td>\n",
       "      <td>2015</td>\n",
       "      <td>101</td>\n",
       "      <td>5050</td>\n",
       "      <td>246667.305007</td>\n",
       "      <td>244161.694997</td>\n",
       "      <td>490829.000003</td>\n",
       "    </tr>\n",
       "    <tr>\n",
       "      <th>1</th>\n",
       "      <td>Alamosa</td>\n",
       "      <td>2015</td>\n",
       "      <td>303</td>\n",
       "      <td>5050</td>\n",
       "      <td>8020.533674</td>\n",
       "      <td>7987.466326</td>\n",
       "      <td>16008.000000</td>\n",
       "    </tr>\n",
       "  </tbody>\n",
       "</table>\n",
       "</div>"
      ],
      "text/plain": [
       "    county  year  fipsCode   age  malePopulation  femalePopulation  \\\n",
       "0    Adams  2015       101  5050   246667.305007     244161.694997   \n",
       "1  Alamosa  2015       303  5050     8020.533674       7987.466326   \n",
       "\n",
       "   totalPopulation  \n",
       "0    490829.000003  \n",
       "1     16008.000000  "
      ]
     },
     "execution_count": 124,
     "metadata": {},
     "output_type": "execute_result"
    }
   ],
   "source": [
    "data_grouped.head(2)"
   ]
  },
  {
   "cell_type": "code",
   "execution_count": 125,
   "metadata": {},
   "outputs": [],
   "source": [
    "data_grouped = data_grouped[['county','year','totalPopulation']]"
   ]
  },
  {
   "cell_type": "code",
   "execution_count": 126,
   "metadata": {},
   "outputs": [
    {
     "data": {
      "text/plain": [
       "Fremont County, CO        1\n",
       "Kiowa County, CO          1\n",
       "La Plata County, CO       1\n",
       "San Juan County, CO       1\n",
       "Rio Blanco County, CO     1\n",
       "Arapahoe County, CO       1\n",
       "Montrose County, CO       1\n",
       "Archuleta County, CO      1\n",
       "Routt County, CO          1\n",
       "Ouray County, CO          1\n",
       "Moffat County, CO         1\n",
       "Grand County, CO          1\n",
       "Teller County, CO         1\n",
       "Chaffee County, CO        1\n",
       "Denver County, CO         1\n",
       "Gunnison County, CO       1\n",
       "San Miguel County, CO     1\n",
       "Saguache County, CO       1\n",
       "Clear Creek County, CO    1\n",
       "Douglas County, CO        1\n",
       "Kit Carson County, CO     1\n",
       "Otero County, CO          1\n",
       "Jefferson County, CO      1\n",
       "Lake County, CO           1\n",
       "Washington County, CO     1\n",
       "Custer County, CO         1\n",
       "Pitkin County, CO         1\n",
       "Dolores County, CO        1\n",
       "Delta County, CO          1\n",
       "Boulder County, CO        1\n",
       "                         ..\n",
       "Crowley County, CO        1\n",
       "Conejos County, CO        1\n",
       "Larimer County, CO        1\n",
       "Sedgwick County, CO       1\n",
       "Weld County, CO           1\n",
       "Lincoln County, CO        1\n",
       "Bent County, CO           1\n",
       "Logan County, CO          1\n",
       "Park County, CO           1\n",
       "Elbert County, CO         1\n",
       "Huerfano County, CO       1\n",
       "Cheyenne County, CO       1\n",
       "Adams County, CO          1\n",
       "Summit County, CO         1\n",
       "Prowers County, CO        1\n",
       "Jackson County, CO        1\n",
       "Pueblo County, CO         1\n",
       "Gilpin County, CO         1\n",
       "Las Animas County, CO     1\n",
       "Mesa County, CO           1\n",
       "Eagle County, CO          1\n",
       "Rio Grande County, CO     1\n",
       "Costilla County, CO       1\n",
       "Yuma County, CO           1\n",
       "Baca County, CO           1\n",
       "Garfield County, CO       1\n",
       "Phillips County, CO       1\n",
       "Alamosa County, CO        1\n",
       "El Paso County, CO        1\n",
       "Hinsdale County, CO       1\n",
       "Name: name, Length: 64, dtype: int64"
      ]
     },
     "execution_count": 126,
     "metadata": {},
     "output_type": "execute_result"
    }
   ],
   "source": [
    "counties['name'].value_counts()"
   ]
  },
  {
   "cell_type": "code",
   "execution_count": 127,
   "metadata": {},
   "outputs": [
    {
     "name": "stdout",
     "output_type": "stream",
     "text": [
      "<type 'str'>\n",
      "<type 'str'>\n",
      "<type 'str'>\n",
      "<type 'str'>\n",
      "<type 'str'>\n",
      "<type 'str'>\n",
      "<type 'str'>\n",
      "<type 'str'>\n",
      "<type 'str'>\n",
      "<type 'str'>\n",
      "<type 'str'>\n",
      "<type 'str'>\n",
      "<type 'str'>\n",
      "<type 'str'>\n",
      "<type 'str'>\n",
      "<type 'str'>\n",
      "<type 'str'>\n",
      "<type 'str'>\n",
      "<type 'str'>\n",
      "<type 'str'>\n",
      "<type 'str'>\n",
      "<type 'str'>\n",
      "<type 'str'>\n",
      "<type 'str'>\n",
      "<type 'str'>\n",
      "<type 'str'>\n",
      "<type 'str'>\n",
      "<type 'str'>\n",
      "<type 'str'>\n",
      "<type 'str'>\n",
      "<type 'str'>\n",
      "<type 'str'>\n",
      "<type 'str'>\n",
      "<type 'str'>\n",
      "<type 'str'>\n",
      "<type 'str'>\n",
      "<type 'str'>\n",
      "<type 'str'>\n",
      "<type 'str'>\n",
      "<type 'str'>\n",
      "<type 'str'>\n",
      "<type 'str'>\n",
      "<type 'str'>\n",
      "<type 'str'>\n",
      "<type 'str'>\n",
      "<type 'str'>\n",
      "<type 'str'>\n",
      "<type 'str'>\n",
      "<type 'str'>\n",
      "<type 'str'>\n",
      "<type 'str'>\n",
      "<type 'str'>\n",
      "<type 'str'>\n",
      "<type 'str'>\n",
      "<type 'str'>\n",
      "<type 'str'>\n",
      "<type 'str'>\n",
      "<type 'str'>\n",
      "<type 'str'>\n",
      "<type 'str'>\n",
      "<type 'str'>\n",
      "<type 'str'>\n",
      "<type 'str'>\n",
      "<type 'str'>\n"
     ]
    }
   ],
   "source": [
    "for x in counties['name']:\n",
    "    print type(str(x))"
   ]
  },
  {
   "cell_type": "code",
   "execution_count": 128,
   "metadata": {},
   "outputs": [
    {
     "data": {
      "text/plain": [
       "u'Costilla County, CO'"
      ]
     },
     "execution_count": 128,
     "metadata": {},
     "output_type": "execute_result"
    }
   ],
   "source": [
    "counties.loc[0,'name']"
   ]
  },
  {
   "cell_type": "code",
   "execution_count": 129,
   "metadata": {},
   "outputs": [
    {
     "data": {
      "text/plain": [
       "0        Costilla\n",
       "1         Jackson\n",
       "2         Chaffee\n",
       "3          Elbert\n",
       "4          Teller\n",
       "5         Prowers\n",
       "6        Sedgwick\n",
       "7          Denver\n",
       "8      Rio Grande\n",
       "9       Montezuma\n",
       "10         Moffat\n",
       "11        Conejos\n",
       "12       La Plata\n",
       "13        Dolores\n",
       "14     Kit Carson\n",
       "15           Weld\n",
       "16          Kiowa\n",
       "17       Saguache\n",
       "18     Washington\n",
       "19      Archuleta\n",
       "20           Baca\n",
       "21        Douglas\n",
       "22         Pueblo\n",
       "23          Eagle\n",
       "24       Phillips\n",
       "25     Rio Blanco\n",
       "26          Routt\n",
       "27         Summit\n",
       "28          Adams\n",
       "29          Logan\n",
       "         ...     \n",
       "34           Park\n",
       "35       Huerfano\n",
       "36           Bent\n",
       "37    Clear Creek\n",
       "38           Lake\n",
       "39       Cheyenne\n",
       "40     Las Animas\n",
       "41         Custer\n",
       "42        Alamosa\n",
       "43           Yuma\n",
       "44           Mesa\n",
       "45          Grand\n",
       "46          Ouray\n",
       "47       Gunnison\n",
       "48     San Miguel\n",
       "49         Morgan\n",
       "50        Larimer\n",
       "51          Otero\n",
       "52         Pitkin\n",
       "53        Lincoln\n",
       "54        Crowley\n",
       "55       San Juan\n",
       "56        Fremont\n",
       "57      Jefferson\n",
       "58       Arapahoe\n",
       "59     Broomfield\n",
       "60        Boulder\n",
       "61       Hinsdale\n",
       "62          Delta\n",
       "63         Gilpin\n",
       "Name: name, Length: 64, dtype: object"
      ]
     },
     "execution_count": 129,
     "metadata": {},
     "output_type": "execute_result"
    }
   ],
   "source": [
    "counties['name'].apply(lambda x : str(x)[:-11])"
   ]
  },
  {
   "cell_type": "code",
   "execution_count": 130,
   "metadata": {},
   "outputs": [],
   "source": [
    "counties['name'] = counties['name'].apply(lambda x : str(x)[:-11])"
   ]
  },
  {
   "cell_type": "code",
   "execution_count": 131,
   "metadata": {},
   "outputs": [
    {
     "data": {
      "text/html": [
       "<div>\n",
       "<style scoped>\n",
       "    .dataframe tbody tr th:only-of-type {\n",
       "        vertical-align: middle;\n",
       "    }\n",
       "\n",
       "    .dataframe tbody tr th {\n",
       "        vertical-align: top;\n",
       "    }\n",
       "\n",
       "    .dataframe thead th {\n",
       "        text-align: right;\n",
       "    }\n",
       "</style>\n",
       "<table border=\"1\" class=\"dataframe\">\n",
       "  <thead>\n",
       "    <tr style=\"text-align: right;\">\n",
       "      <th></th>\n",
       "      <th>geoid</th>\n",
       "      <th>name</th>\n",
       "      <th>geometry</th>\n",
       "    </tr>\n",
       "  </thead>\n",
       "  <tbody>\n",
       "    <tr>\n",
       "      <th>0</th>\n",
       "      <td>05000US08023</td>\n",
       "      <td>Costilla</td>\n",
       "      <td>(POLYGON ((-105.738409 37.30676, -105.736221 3...</td>\n",
       "    </tr>\n",
       "    <tr>\n",
       "      <th>1</th>\n",
       "      <td>05000US08057</td>\n",
       "      <td>Jackson</td>\n",
       "      <td>(POLYGON ((-106.869827 40.956462, -106.87322 4...</td>\n",
       "    </tr>\n",
       "    <tr>\n",
       "      <th>2</th>\n",
       "      <td>05000US08015</td>\n",
       "      <td>Chaffee</td>\n",
       "      <td>(POLYGON ((-106.451867 38.698343, -106.450135 ...</td>\n",
       "    </tr>\n",
       "    <tr>\n",
       "      <th>3</th>\n",
       "      <td>05000US08039</td>\n",
       "      <td>Elbert</td>\n",
       "      <td>(POLYGON ((-104.662911 39.13184, -104.662808 3...</td>\n",
       "    </tr>\n",
       "    <tr>\n",
       "      <th>4</th>\n",
       "      <td>05000US08119</td>\n",
       "      <td>Teller</td>\n",
       "      <td>(POLYGON ((-105.328925 38.857561, -105.328153 ...</td>\n",
       "    </tr>\n",
       "  </tbody>\n",
       "</table>\n",
       "</div>"
      ],
      "text/plain": [
       "          geoid      name                                           geometry\n",
       "0  05000US08023  Costilla  (POLYGON ((-105.738409 37.30676, -105.736221 3...\n",
       "1  05000US08057   Jackson  (POLYGON ((-106.869827 40.956462, -106.87322 4...\n",
       "2  05000US08015   Chaffee  (POLYGON ((-106.451867 38.698343, -106.450135 ...\n",
       "3  05000US08039    Elbert  (POLYGON ((-104.662911 39.13184, -104.662808 3...\n",
       "4  05000US08119    Teller  (POLYGON ((-105.328925 38.857561, -105.328153 ..."
      ]
     },
     "execution_count": 131,
     "metadata": {},
     "output_type": "execute_result"
    }
   ],
   "source": [
    "counties.head()"
   ]
  },
  {
   "cell_type": "code",
   "execution_count": 132,
   "metadata": {},
   "outputs": [
    {
     "data": {
      "text/plain": [
       "64"
      ]
     },
     "execution_count": 132,
     "metadata": {},
     "output_type": "execute_result"
    }
   ],
   "source": [
    "len(data_grouped)"
   ]
  },
  {
   "cell_type": "code",
   "execution_count": 133,
   "metadata": {},
   "outputs": [
    {
     "data": {
      "text/plain": [
       "64"
      ]
     },
     "execution_count": 133,
     "metadata": {},
     "output_type": "execute_result"
    }
   ],
   "source": [
    "len(counties)"
   ]
  },
  {
   "cell_type": "code",
   "execution_count": 156,
   "metadata": {},
   "outputs": [],
   "source": [
    "geo_data = gpd.GeoDataFrame(data_grouped.merge(counties, left_on='county',right_on='name'))"
   ]
  },
  {
   "cell_type": "code",
   "execution_count": 157,
   "metadata": {},
   "outputs": [
    {
     "data": {
      "text/plain": [
       "geopandas.geodataframe.GeoDataFrame"
      ]
     },
     "execution_count": 157,
     "metadata": {},
     "output_type": "execute_result"
    }
   ],
   "source": [
    "type(geo_data)"
   ]
  },
  {
   "cell_type": "code",
   "execution_count": 159,
   "metadata": {},
   "outputs": [
    {
     "data": {
      "text/plain": [
       "<matplotlib.axes._subplots.AxesSubplot at 0xe81b8d0>"
      ]
     },
     "execution_count": 159,
     "metadata": {},
     "output_type": "execute_result"
    },
    {
     "data": {
      "image/png": "[encoded data removed]",
      "text/plain": [
       "<matplotlib.figure.Figure at 0xe78bcd0>"
      ]
     },
     "metadata": {},
     "output_type": "display_data"
    }
   ],
   "source": [
    "#This is the choropleth map with geopandas\n",
    "geo_data.plot(column='totalPopulation',legend=True)"
   ]
  },
  {
   "cell_type": "code",
   "execution_count": 218,
   "metadata": {},
   "outputs": [],
   "source": [
    "geo_data.to_file('C:\\datasets\\geo_data.geojson',driver=\"GeoJSON\")"
   ]
  },
  {
   "cell_type": "code",
   "execution_count": 263,
   "metadata": {},
   "outputs": [
    {
     "data": {
      "text/html": [
       "<div>\n",
       "<style scoped>\n",
       "    .dataframe tbody tr th:only-of-type {\n",
       "        vertical-align: middle;\n",
       "    }\n",
       "\n",
       "    .dataframe tbody tr th {\n",
       "        vertical-align: top;\n",
       "    }\n",
       "\n",
       "    .dataframe thead th {\n",
       "        text-align: right;\n",
       "    }\n",
       "</style>\n",
       "<table border=\"1\" class=\"dataframe\">\n",
       "  <thead>\n",
       "    <tr style=\"text-align: right;\">\n",
       "      <th></th>\n",
       "      <th>county</th>\n",
       "      <th>year</th>\n",
       "      <th>totalPopulation</th>\n",
       "      <th>geoid</th>\n",
       "      <th>name</th>\n",
       "      <th>geometry</th>\n",
       "    </tr>\n",
       "  </thead>\n",
       "  <tbody>\n",
       "    <tr>\n",
       "      <th>0</th>\n",
       "      <td>Adams</td>\n",
       "      <td>2015</td>\n",
       "      <td>490829.000003</td>\n",
       "      <td>05000US08001</td>\n",
       "      <td>Adams</td>\n",
       "      <td>(POLYGON ((-104.582488 39.739636, -104.884646 ...</td>\n",
       "    </tr>\n",
       "    <tr>\n",
       "      <th>1</th>\n",
       "      <td>Alamosa</td>\n",
       "      <td>2015</td>\n",
       "      <td>16008.000000</td>\n",
       "      <td>05000US08003</td>\n",
       "      <td>Alamosa</td>\n",
       "      <td>(POLYGON ((-106.039302 37.577067, -106.038413 ...</td>\n",
       "    </tr>\n",
       "  </tbody>\n",
       "</table>\n",
       "</div>"
      ],
      "text/plain": [
       "    county  year  totalPopulation         geoid     name  \\\n",
       "0    Adams  2015    490829.000003  05000US08001    Adams   \n",
       "1  Alamosa  2015     16008.000000  05000US08003  Alamosa   \n",
       "\n",
       "                                            geometry  \n",
       "0  (POLYGON ((-104.582488 39.739636, -104.884646 ...  \n",
       "1  (POLYGON ((-106.039302 37.577067, -106.038413 ...  "
      ]
     },
     "execution_count": 263,
     "metadata": {},
     "output_type": "execute_result"
    }
   ],
   "source": [
    "df2 = gpd.read_file('C:\\datasets\\geo_data.geojson')\n",
    "df2.head(2)\n",
    "#df2['geometry'][0][0].exterior.coords.xy[0]\n",
    "#df2['geometry'][0][0].exterior.coords.xy[1]"
   ]
  },
  {
   "cell_type": "code",
   "execution_count": 170,
   "metadata": {},
   "outputs": [
    {
     "data": {
      "text/html": [
       "<script>requirejs.config({paths: { 'plotly': ['https://cdn.plot.ly/plotly-latest.min']},});if(!window.Plotly) {{require(['plotly'],function(plotly) {window.Plotly=plotly;});}}</script>"
      ],
      "text/vnd.plotly.v1+html": [
       "<script>requirejs.config({paths: { 'plotly': ['https://cdn.plot.ly/plotly-latest.min']},});if(!window.Plotly) {{require(['plotly'],function(plotly) {window.Plotly=plotly;});}}</script>"
      ]
     },
     "metadata": {},
     "output_type": "display_data"
    }
   ],
   "source": [
    "import plotly.plotly as py\n",
    "import plotly.graph_objs as go\n",
    "from plotly.offline import download_plotlyjs, init_notebook_mode, plot, iplot\n",
    "init_notebook_mode(connected=True)\n",
    "mapbox_access_token = 'pk.eyJ1IjoiYW5kcmVzODkwMiIsImEiOiJjamNjYnFueWEwNmd4MzNybm1iZndpOGU0In0.6N-RqzOOEBjaR-7oG0TcGg'"
   ]
  },
  {
   "cell_type": "code",
   "execution_count": 266,
   "metadata": {},
   "outputs": [],
   "source": [
    "data = go.Data([\n",
    "    go.Scattermapbox(\n",
    "        lat=['45.5017'],\n",
    "        lon=['-73.5673'],\n",
    "        mode='markers',\n",
    "    )\n",
    "])"
   ]
  },
  {
   "cell_type": "code",
   "execution_count": 267,
   "metadata": {},
   "outputs": [],
   "source": [
    "layout = go.Layout(\n",
    "    height=600,\n",
    "    autosize=True,\n",
    "    hovermode='closest',\n",
    "    mapbox=dict(\n",
    "        layers=[\n",
    "            dict(\n",
    "                sourcetype = 'geojson',\n",
    "                source = 'https://raw.githubusercontent.com/plotly/datasets/master/florida-red-data.json',\n",
    "                type = 'fill',\n",
    "                color = 'rgba(163,22,19,0.8)'\n",
    "            ),\n",
    "            dict(\n",
    "                sourcetype = 'geojson',\n",
    "                source = 'https://raw.githubusercontent.com/plotly/datasets/master/florida-blue-data.json',\n",
    "                type = 'fill',\n",
    "                color = 'rgba(40,0,113,0.8)'\n",
    "            )\n",
    "        ],\n",
    "        accesstoken=mapbox_access_token,\n",
    "        bearing=0,\n",
    "        center=dict(\n",
    "            lat=27.8,\n",
    "            lon=-83\n",
    "        ),\n",
    "        pitch=0,\n",
    "        zoom=5.2,\n",
    "        style='light'\n",
    "    ),\n",
    ")\n"
   ]
  },
  {
   "cell_type": "code",
   "execution_count": 268,
   "metadata": {},
   "outputs": [
    {
     "data": {
      "application/vnd.plotly.v1+json": {
       "data": [
        {
         "lat": [
          "45.5017"
         ],
         "lon": [
          "-73.5673"
         ],
         "mode": "markers",
         "type": "scattermapbox"
        }
       ],
       "layout": {
        "autosize": true,
        "height": 600,
        "hovermode": "closest",
        "mapbox": {
         "accesstoken": "pk.eyJ1IjoiYW5kcmVzODkwMiIsImEiOiJjamNjYnFueWEwNmd4MzNybm1iZndpOGU0In0.6N-RqzOOEBjaR-7oG0TcGg",
         "bearing": 0,
         "center": {
          "lat": 27.8,
          "lon": -83
         },
         "layers": [
          {
           "color": "rgba(163,22,19,0.8)",
           "source": "https://raw.githubusercontent.com/plotly/datasets/master/florida-red-data.json",
           "sourcetype": "geojson",
           "type": "fill"
          },
          {
           "color": "rgba(40,0,113,0.8)",
           "source": "https://raw.githubusercontent.com/plotly/datasets/master/florida-blue-data.json",
           "sourcetype": "geojson",
           "type": "fill"
          }
         ],
         "pitch": 0,
         "style": "light",
         "zoom": 5.2
        }
       }
      },
      "text/html": [
       "<div id=\"2fa613aa-7312-4dc1-b2af-ad947964048e\" style=\"height: 600px; width: 100%;\" class=\"plotly-graph-div\"></div><script type=\"text/javascript\">require([\"plotly\"], function(Plotly) { window.PLOTLYENV=window.PLOTLYENV || {};window.PLOTLYENV.BASE_URL=\"https://plot.ly\";Plotly.newPlot(\"2fa613aa-7312-4dc1-b2af-ad947964048e\", [{\"lat\": [\"45.5017\"], \"type\": \"scattermapbox\", \"lon\": [\"-73.5673\"], \"mode\": \"markers\"}], {\"hovermode\": \"closest\", \"height\": 600, \"autosize\": true, \"mapbox\": {\"layers\": [{\"color\": \"rgba(163,22,19,0.8)\", \"source\": \"https://raw.githubusercontent.com/plotly/datasets/master/florida-red-data.json\", \"type\": \"fill\", \"sourcetype\": \"geojson\"}, {\"color\": \"rgba(40,0,113,0.8)\", \"source\": \"https://raw.githubusercontent.com/plotly/datasets/master/florida-blue-data.json\", \"type\": \"fill\", \"sourcetype\": \"geojson\"}], \"bearing\": 0, \"style\": \"light\", \"center\": {\"lat\": 27.8, \"lon\": -83}, \"accesstoken\": \"pk.eyJ1IjoiYW5kcmVzODkwMiIsImEiOiJjamNjYnFueWEwNmd4MzNybm1iZndpOGU0In0.6N-RqzOOEBjaR-7oG0TcGg\", \"zoom\": 5.2, \"pitch\": 0}}, {\"linkText\": \"Export to plot.ly\", \"showLink\": true})});</script>"
      ],
      "text/vnd.plotly.v1+html": [
       "<div id=\"2fa613aa-7312-4dc1-b2af-ad947964048e\" style=\"height: 600px; width: 100%;\" class=\"plotly-graph-div\"></div><script type=\"text/javascript\">require([\"plotly\"], function(Plotly) { window.PLOTLYENV=window.PLOTLYENV || {};window.PLOTLYENV.BASE_URL=\"https://plot.ly\";Plotly.newPlot(\"2fa613aa-7312-4dc1-b2af-ad947964048e\", [{\"lat\": [\"45.5017\"], \"type\": \"scattermapbox\", \"lon\": [\"-73.5673\"], \"mode\": \"markers\"}], {\"hovermode\": \"closest\", \"height\": 600, \"autosize\": true, \"mapbox\": {\"layers\": [{\"color\": \"rgba(163,22,19,0.8)\", \"source\": \"https://raw.githubusercontent.com/plotly/datasets/master/florida-red-data.json\", \"type\": \"fill\", \"sourcetype\": \"geojson\"}, {\"color\": \"rgba(40,0,113,0.8)\", \"source\": \"https://raw.githubusercontent.com/plotly/datasets/master/florida-blue-data.json\", \"type\": \"fill\", \"sourcetype\": \"geojson\"}], \"bearing\": 0, \"style\": \"light\", \"center\": {\"lat\": 27.8, \"lon\": -83}, \"accesstoken\": \"pk.eyJ1IjoiYW5kcmVzODkwMiIsImEiOiJjamNjYnFueWEwNmd4MzNybm1iZndpOGU0In0.6N-RqzOOEBjaR-7oG0TcGg\", \"zoom\": 5.2, \"pitch\": 0}}, {\"linkText\": \"Export to plot.ly\", \"showLink\": true})});</script>"
      ]
     },
     "metadata": {},
     "output_type": "display_data"
    }
   ],
   "source": [
    "fig = go.Figure(data=data,layout=layout)\n",
    "iplot(fig)"
   ]
  },
  {
   "cell_type": "code",
   "execution_count": 269,
   "metadata": {},
   "outputs": [],
   "source": [
    "data2 = go.Data([\n",
    "    go.Scattermapbox(\n",
    "        lat=['45.5017'],\n",
    "        lon=['-73.5673'],\n",
    "        mode='markers',\n",
    "    )\n",
    "])"
   ]
  },
  {
   "cell_type": "code",
   "execution_count": 272,
   "metadata": {},
   "outputs": [],
   "source": [
    "layout2 = go.Layout(\n",
    "    height=600,\n",
    "    autosize=True,\n",
    "    hovermode='closest',\n",
    "    mapbox=dict(\n",
    "        layers=[\n",
    "            dict(\n",
    "                sourcetype = 'geojson',\n",
    "                source = 'http://catalog.civicdashboards.com/dataset/bae1d256-eb2b-4ece-b8dc-fa149b66a84e/resource/c9ddc844-6d01-4c7c-8c98-df932ea94597/download/2e3b193fffed4788a621b0095cd8182dtemp.geojson',\n",
    "                type = 'fill',\n",
    "                color = 'rgba(163,22,19,0.8)'\n",
    "            )\n",
    "        ],\n",
    "        accesstoken=mapbox_access_token,\n",
    "        bearing=0,\n",
    "        center=dict(\n",
    "            lat=37,\n",
    "            lon=-105\n",
    "        ),\n",
    "        pitch=0,\n",
    "        zoom=5.2,\n",
    "        style='light'\n",
    "    ),\n",
    ")"
   ]
  },
  {
   "cell_type": "code",
   "execution_count": 273,
   "metadata": {},
   "outputs": [
    {
     "data": {
      "application/vnd.plotly.v1+json": {
       "data": [
        {
         "lat": [
          "45.5017"
         ],
         "lon": [
          "-73.5673"
         ],
         "mode": "markers",
         "type": "scattermapbox"
        }
       ],
       "layout": {
        "autosize": true,
        "height": 600,
        "hovermode": "closest",
        "mapbox": {
         "accesstoken": "pk.eyJ1IjoiYW5kcmVzODkwMiIsImEiOiJjamNjYnFueWEwNmd4MzNybm1iZndpOGU0In0.6N-RqzOOEBjaR-7oG0TcGg",
         "bearing": 0,
         "center": {
          "lat": 37,
          "lon": -105
         },
         "layers": [
          {
           "color": "rgba(163,22,19,0.8)",
           "source": "http://catalog.civicdashboards.com/dataset/bae1d256-eb2b-4ece-b8dc-fa149b66a84e/resource/c9ddc844-6d01-4c7c-8c98-df932ea94597/download/2e3b193fffed4788a621b0095cd8182dtemp.geojson",
           "sourcetype": "geojson",
           "type": "fill"
          }
         ],
         "pitch": 0,
         "style": "light",
         "zoom": 5.2
        }
       }
      },
      "text/html": [
       "<div id=\"d68e7dd5-2780-4bdd-9912-4893a416dd8c\" style=\"height: 600px; width: 100%;\" class=\"plotly-graph-div\"></div><script type=\"text/javascript\">require([\"plotly\"], function(Plotly) { window.PLOTLYENV=window.PLOTLYENV || {};window.PLOTLYENV.BASE_URL=\"https://plot.ly\";Plotly.newPlot(\"d68e7dd5-2780-4bdd-9912-4893a416dd8c\", [{\"lat\": [\"45.5017\"], \"type\": \"scattermapbox\", \"lon\": [\"-73.5673\"], \"mode\": \"markers\"}], {\"hovermode\": \"closest\", \"height\": 600, \"autosize\": true, \"mapbox\": {\"layers\": [{\"color\": \"rgba(163,22,19,0.8)\", \"source\": \"http://catalog.civicdashboards.com/dataset/bae1d256-eb2b-4ece-b8dc-fa149b66a84e/resource/c9ddc844-6d01-4c7c-8c98-df932ea94597/download/2e3b193fffed4788a621b0095cd8182dtemp.geojson\", \"type\": \"fill\", \"sourcetype\": \"geojson\"}], \"bearing\": 0, \"style\": \"light\", \"center\": {\"lat\": 37, \"lon\": -105}, \"accesstoken\": \"pk.eyJ1IjoiYW5kcmVzODkwMiIsImEiOiJjamNjYnFueWEwNmd4MzNybm1iZndpOGU0In0.6N-RqzOOEBjaR-7oG0TcGg\", \"zoom\": 5.2, \"pitch\": 0}}, {\"linkText\": \"Export to plot.ly\", \"showLink\": true})});</script>"
      ],
      "text/vnd.plotly.v1+html": [
       "<div id=\"d68e7dd5-2780-4bdd-9912-4893a416dd8c\" style=\"height: 600px; width: 100%;\" class=\"plotly-graph-div\"></div><script type=\"text/javascript\">require([\"plotly\"], function(Plotly) { window.PLOTLYENV=window.PLOTLYENV || {};window.PLOTLYENV.BASE_URL=\"https://plot.ly\";Plotly.newPlot(\"d68e7dd5-2780-4bdd-9912-4893a416dd8c\", [{\"lat\": [\"45.5017\"], \"type\": \"scattermapbox\", \"lon\": [\"-73.5673\"], \"mode\": \"markers\"}], {\"hovermode\": \"closest\", \"height\": 600, \"autosize\": true, \"mapbox\": {\"layers\": [{\"color\": \"rgba(163,22,19,0.8)\", \"source\": \"http://catalog.civicdashboards.com/dataset/bae1d256-eb2b-4ece-b8dc-fa149b66a84e/resource/c9ddc844-6d01-4c7c-8c98-df932ea94597/download/2e3b193fffed4788a621b0095cd8182dtemp.geojson\", \"type\": \"fill\", \"sourcetype\": \"geojson\"}], \"bearing\": 0, \"style\": \"light\", \"center\": {\"lat\": 37, \"lon\": -105}, \"accesstoken\": \"pk.eyJ1IjoiYW5kcmVzODkwMiIsImEiOiJjamNjYnFueWEwNmd4MzNybm1iZndpOGU0In0.6N-RqzOOEBjaR-7oG0TcGg\", \"zoom\": 5.2, \"pitch\": 0}}, {\"linkText\": \"Export to plot.ly\", \"showLink\": true})});</script>"
      ]
     },
     "metadata": {},
     "output_type": "display_data"
    }
   ],
   "source": [
    "fig2 = go.Figure(data=data2,layout=layout2)\n",
    "iplot(fig2)"
   ]
  },
  {
   "cell_type": "code",
   "execution_count": null,
   "metadata": {},
   "outputs": [],
   "source": []
  }
 ],
 "metadata": {
  "kernelspec": {
   "display_name": "Python 2",
   "language": "python",
   "name": "python2"
  },
  "language_info": {
   "codemirror_mode": {
    "name": "ipython",
    "version": 2
   },
   "file_extension": ".py",
   "mimetype": "text/x-python",
   "name": "python",
   "nbconvert_exporter": "python",
   "pygments_lexer": "ipython2",
   "version": "2.7.13"
  }
 },
 "nbformat": 4,
 "nbformat_minor": 2
}
