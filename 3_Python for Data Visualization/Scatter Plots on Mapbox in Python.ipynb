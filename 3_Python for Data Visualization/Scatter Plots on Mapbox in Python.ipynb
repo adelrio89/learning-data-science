{
 "cells": [
  {
   "cell_type": "markdown",
   "metadata": {},
   "source": [
    "Basic Example"
   ]
  },
  {
   "cell_type": "code",
   "execution_count": 4,
   "metadata": {},
   "outputs": [
    {
     "data": {
      "text/plain": [
       "'2.2.3'"
      ]
     },
     "execution_count": 4,
     "metadata": {},
     "output_type": "execute_result"
    }
   ],
   "source": [
    "import plotly\n",
    "plotly.__version__"
   ]
  },
  {
   "cell_type": "code",
   "execution_count": 35,
   "metadata": {},
   "outputs": [],
   "source": [
    "import plotly.plotly as py\n",
    "import plotly.graph_objs as go\n",
    "from plotly.offline import download_plotlyjs, init_notebook_mode, plot, iplot"
   ]
  },
  {
   "cell_type": "code",
   "execution_count": 36,
   "metadata": {},
   "outputs": [
    {
     "data": {
      "text/html": [
       "<script>requirejs.config({paths: { 'plotly': ['https://cdn.plot.ly/plotly-latest.min']},});if(!window.Plotly) {{require(['plotly'],function(plotly) {window.Plotly=plotly;});}}</script>"
      ],
      "text/vnd.plotly.v1+html": [
       "<script>requirejs.config({paths: { 'plotly': ['https://cdn.plot.ly/plotly-latest.min']},});if(!window.Plotly) {{require(['plotly'],function(plotly) {window.Plotly=plotly;});}}</script>"
      ]
     },
     "metadata": {},
     "output_type": "display_data"
    }
   ],
   "source": [
    "init_notebook_mode(connected=True)"
   ]
  },
  {
   "cell_type": "code",
   "execution_count": 29,
   "metadata": {},
   "outputs": [],
   "source": [
    "mapbox_access_token = 'pk.eyJ1IjoiYW5kcmVzODkwMiIsImEiOiJjamNjYnFueWEwNmd4MzNybm1iZndpOGU0In0.6N-RqzOOEBjaR-7oG0TcGg'\n",
    "import geopandas as gpd\n",
    "coords = gpd.tools.geocode(\"San Diego 255, Santiago, Chile\")\n",
    "coord_x = coords['geometry'][0].x\n",
    "coord_y = coords['geometry'][0].y"
   ]
  },
  {
   "cell_type": "code",
   "execution_count": 30,
   "metadata": {},
   "outputs": [
    {
     "data": {
      "text/plain": [
       "(-70.6510231, -33.4484173)"
      ]
     },
     "execution_count": 30,
     "metadata": {},
     "output_type": "execute_result"
    }
   ],
   "source": [
    "coord_x, coord_y"
   ]
  },
  {
   "cell_type": "code",
   "execution_count": 64,
   "metadata": {},
   "outputs": [
    {
     "data": {
      "application/vnd.plotly.v1+json": {
       "data": [
        {
         "lat": [
          -33.4484173
         ],
         "lon": [
          -70.6510231
         ],
         "marker": {
          "size": 10
         },
         "mode": "markers",
         "text": [
          "Edificio Conexión"
         ],
         "type": "scattermapbox"
        }
       ],
       "layout": {
        "autosize": true,
        "mapbox": {
         "accesstoken": "pk.eyJ1IjoiYW5kcmVzODkwMiIsImEiOiJjamNjYnFueWEwNmd4MzNybm1iZndpOGU0In0.6N-RqzOOEBjaR-7oG0TcGg",
         "bearing": 0,
         "center": {
          "lat": -33.4484173,
          "lon": -70.6510231
         },
         "pitch": 0,
         "zoom": 10
        }
       }
      },
      "text/html": [
       "<div id=\"46f25f74-243b-4a74-8f0a-3014fef92e0f\" style=\"height: 525px; width: 100%;\" class=\"plotly-graph-div\"></div><script type=\"text/javascript\">require([\"plotly\"], function(Plotly) { window.PLOTLYENV=window.PLOTLYENV || {};window.PLOTLYENV.BASE_URL=\"https://plot.ly\";Plotly.newPlot(\"46f25f74-243b-4a74-8f0a-3014fef92e0f\", [{\"text\": [\"Edificio Conexi\\u00f3n\"], \"lon\": [-70.6510231], \"marker\": {\"size\": 10}, \"mode\": \"markers\", \"lat\": [-33.4484173], \"type\": \"scattermapbox\"}], {\"autosize\": true, \"mapbox\": {\"bearing\": 0, \"pitch\": 0, \"center\": {\"lat\": -33.4484173, \"lon\": -70.6510231}, \"accesstoken\": \"pk.eyJ1IjoiYW5kcmVzODkwMiIsImEiOiJjamNjYnFueWEwNmd4MzNybm1iZndpOGU0In0.6N-RqzOOEBjaR-7oG0TcGg\", \"zoom\": 10}}, {\"linkText\": \"Export to plot.ly\", \"showLink\": true})});</script>"
      ],
      "text/vnd.plotly.v1+html": [
       "<div id=\"46f25f74-243b-4a74-8f0a-3014fef92e0f\" style=\"height: 525px; width: 100%;\" class=\"plotly-graph-div\"></div><script type=\"text/javascript\">require([\"plotly\"], function(Plotly) { window.PLOTLYENV=window.PLOTLYENV || {};window.PLOTLYENV.BASE_URL=\"https://plot.ly\";Plotly.newPlot(\"46f25f74-243b-4a74-8f0a-3014fef92e0f\", [{\"text\": [\"Edificio Conexi\\u00f3n\"], \"lon\": [-70.6510231], \"marker\": {\"size\": 10}, \"mode\": \"markers\", \"lat\": [-33.4484173], \"type\": \"scattermapbox\"}], {\"autosize\": true, \"mapbox\": {\"bearing\": 0, \"pitch\": 0, \"center\": {\"lat\": -33.4484173, \"lon\": -70.6510231}, \"accesstoken\": \"pk.eyJ1IjoiYW5kcmVzODkwMiIsImEiOiJjamNjYnFueWEwNmd4MzNybm1iZndpOGU0In0.6N-RqzOOEBjaR-7oG0TcGg\", \"zoom\": 10}}, {\"linkText\": \"Export to plot.ly\", \"showLink\": true})});</script>"
      ]
     },
     "metadata": {},
     "output_type": "display_data"
    }
   ],
   "source": [
    "data = go.Data([\n",
    "    go.Scattermapbox(\n",
    "        lat = [coord_y],\n",
    "        lon = [coord_x],\n",
    "        mode = 'markers',\n",
    "        marker = go.Marker(\n",
    "            size = 10\n",
    "        ),\n",
    "        text = ['Edificio Conexión']\n",
    "    )\n",
    "        \n",
    "])\n",
    "    \n",
    "layout = go.Layout(\n",
    "    autosize = True,\n",
    "    #hovermode = 'closest',\n",
    "    mapbox = dict(\n",
    "        accesstoken = mapbox_access_token,\n",
    "        bearing = 0,\n",
    "        center = dict(\n",
    "            lat = -33.4484173,\n",
    "            lon = -70.6510231\n",
    "        ),\n",
    "        pitch = 0,\n",
    "        zoom = 10\n",
    "    )\n",
    ")\n",
    "\n",
    "fig = dict(data=data,layout=layout)\n",
    "iplot(fig)\n"
   ]
  },
  {
   "cell_type": "markdown",
   "metadata": {},
   "source": [
    "Multiple Markers"
   ]
  },
  {
   "cell_type": "code",
   "execution_count": 65,
   "metadata": {},
   "outputs": [],
   "source": [
    "mom_coords = gpd.tools.geocode(\"San Ignacio de Loyola 633, Santiago, Chile\")\n",
    "moms_x = mom_coords['geometry'][0].x\n",
    "moms_y = mom_coords['geometry'][0].y"
   ]
  },
  {
   "cell_type": "code",
   "execution_count": 66,
   "metadata": {},
   "outputs": [
    {
     "data": {
      "text/html": [
       "<div>\n",
       "<style scoped>\n",
       "    .dataframe tbody tr th:only-of-type {\n",
       "        vertical-align: middle;\n",
       "    }\n",
       "\n",
       "    .dataframe tbody tr th {\n",
       "        vertical-align: top;\n",
       "    }\n",
       "\n",
       "    .dataframe thead th {\n",
       "        text-align: right;\n",
       "    }\n",
       "</style>\n",
       "<table border=\"1\" class=\"dataframe\">\n",
       "  <thead>\n",
       "    <tr style=\"text-align: right;\">\n",
       "      <th></th>\n",
       "      <th>address</th>\n",
       "      <th>geometry</th>\n",
       "    </tr>\n",
       "  </thead>\n",
       "  <tbody>\n",
       "    <tr>\n",
       "      <th>0</th>\n",
       "      <td>Calle San Ignacio de Loyola 633, Santiago, Reg...</td>\n",
       "      <td>POINT (-70.6558376 -33.4538435)</td>\n",
       "    </tr>\n",
       "  </tbody>\n",
       "</table>\n",
       "</div>"
      ],
      "text/plain": [
       "                                             address  \\\n",
       "0  Calle San Ignacio de Loyola 633, Santiago, Reg...   \n",
       "\n",
       "                          geometry  \n",
       "0  POINT (-70.6558376 -33.4538435)  "
      ]
     },
     "execution_count": 66,
     "metadata": {},
     "output_type": "execute_result"
    }
   ],
   "source": [
    "mom_coords"
   ]
  },
  {
   "cell_type": "code",
   "execution_count": 68,
   "metadata": {},
   "outputs": [
    {
     "data": {
      "application/vnd.plotly.v1+json": {
       "data": [
        {
         "lat": [
          -33.4484173,
          -33.4538435
         ],
         "lon": [
          -70.6510231,
          -70.6558376
         ],
         "marker": {
          "size": 10
         },
         "mode": "markers",
         "text": [
          "Home",
          "Mom's place"
         ],
         "type": "scattermapbox"
        }
       ],
       "layout": {
        "autosize": true,
        "mapbox": {
         "accesstoken": "pk.eyJ1IjoiYW5kcmVzODkwMiIsImEiOiJjamNjYnFueWEwNmd4MzNybm1iZndpOGU0In0.6N-RqzOOEBjaR-7oG0TcGg",
         "bearing": 0,
         "center": {
          "lat": -33.44,
          "lon": -70.65
         },
         "pitch": 0,
         "zoom": 10
        }
       }
      },
      "text/html": [
       "<div id=\"93a9d6a6-e16b-496e-88a9-09e0be84195d\" style=\"height: 525px; width: 100%;\" class=\"plotly-graph-div\"></div><script type=\"text/javascript\">require([\"plotly\"], function(Plotly) { window.PLOTLYENV=window.PLOTLYENV || {};window.PLOTLYENV.BASE_URL=\"https://plot.ly\";Plotly.newPlot(\"93a9d6a6-e16b-496e-88a9-09e0be84195d\", [{\"text\": [\"Home\", \"Mom's place\"], \"lon\": [-70.6510231, -70.6558376], \"marker\": {\"size\": 10}, \"mode\": \"markers\", \"lat\": [-33.4484173, -33.4538435], \"type\": \"scattermapbox\"}], {\"autosize\": true, \"mapbox\": {\"bearing\": 0, \"pitch\": 0, \"center\": {\"lat\": -33.44, \"lon\": -70.65}, \"accesstoken\": \"pk.eyJ1IjoiYW5kcmVzODkwMiIsImEiOiJjamNjYnFueWEwNmd4MzNybm1iZndpOGU0In0.6N-RqzOOEBjaR-7oG0TcGg\", \"zoom\": 10}}, {\"linkText\": \"Export to plot.ly\", \"showLink\": true})});</script>"
      ],
      "text/vnd.plotly.v1+html": [
       "<div id=\"93a9d6a6-e16b-496e-88a9-09e0be84195d\" style=\"height: 525px; width: 100%;\" class=\"plotly-graph-div\"></div><script type=\"text/javascript\">require([\"plotly\"], function(Plotly) { window.PLOTLYENV=window.PLOTLYENV || {};window.PLOTLYENV.BASE_URL=\"https://plot.ly\";Plotly.newPlot(\"93a9d6a6-e16b-496e-88a9-09e0be84195d\", [{\"text\": [\"Home\", \"Mom's place\"], \"lon\": [-70.6510231, -70.6558376], \"marker\": {\"size\": 10}, \"mode\": \"markers\", \"lat\": [-33.4484173, -33.4538435], \"type\": \"scattermapbox\"}], {\"autosize\": true, \"mapbox\": {\"bearing\": 0, \"pitch\": 0, \"center\": {\"lat\": -33.44, \"lon\": -70.65}, \"accesstoken\": \"pk.eyJ1IjoiYW5kcmVzODkwMiIsImEiOiJjamNjYnFueWEwNmd4MzNybm1iZndpOGU0In0.6N-RqzOOEBjaR-7oG0TcGg\", \"zoom\": 10}}, {\"linkText\": \"Export to plot.ly\", \"showLink\": true})});</script>"
      ]
     },
     "metadata": {},
     "output_type": "display_data"
    }
   ],
   "source": [
    "data = go.Data([\n",
    "    go.Scattermapbox(\n",
    "        lat = [coord_y,moms_y],\n",
    "        lon = [coord_x,moms_x],\n",
    "        mode = 'markers',\n",
    "        marker = go.Marker(\n",
    "            size = 10\n",
    "        ),\n",
    "        text = [\"Home\",\"Mom's place\"]\n",
    "    )\n",
    "        \n",
    "])\n",
    "    \n",
    "layout = go.Layout(\n",
    "    autosize = True,\n",
    "    #hovermode = 'closest',\n",
    "    mapbox = dict(\n",
    "        accesstoken = mapbox_access_token,\n",
    "        bearing = 0,\n",
    "        center = dict(\n",
    "            lat = -33.44,\n",
    "            lon = -70.65\n",
    "        ),\n",
    "        pitch = 0,\n",
    "        zoom = 10\n",
    "    )\n",
    ")\n",
    "\n",
    "fig = dict(data=data,layout=layout)\n",
    "iplot(fig)\n"
   ]
  },
  {
   "cell_type": "markdown",
   "metadata": {},
   "source": [
    "Nuclear Waste Sites on Campuses"
   ]
  },
  {
   "cell_type": "code",
   "execution_count": 70,
   "metadata": {},
   "outputs": [],
   "source": [
    "import pandas as pd\n",
    "df = pd.read_csv('https://raw.githubusercontent.com/plotly/datasets/master/Nuclear%20Waste%20Sites%20on%20American%20Campuses.csv')"
   ]
  },
  {
   "cell_type": "code",
   "execution_count": 71,
   "metadata": {},
   "outputs": [
    {
     "data": {
      "text/html": [
       "<div>\n",
       "<style scoped>\n",
       "    .dataframe tbody tr th:only-of-type {\n",
       "        vertical-align: middle;\n",
       "    }\n",
       "\n",
       "    .dataframe tbody tr th {\n",
       "        vertical-align: top;\n",
       "    }\n",
       "\n",
       "    .dataframe thead th {\n",
       "        text-align: right;\n",
       "    }\n",
       "</style>\n",
       "<table border=\"1\" class=\"dataframe\">\n",
       "  <thead>\n",
       "    <tr style=\"text-align: right;\">\n",
       "      <th></th>\n",
       "      <th>lat</th>\n",
       "      <th>lon</th>\n",
       "      <th>text</th>\n",
       "    </tr>\n",
       "  </thead>\n",
       "  <tbody>\n",
       "    <tr>\n",
       "      <th>0</th>\n",
       "      <td>35.888827</td>\n",
       "      <td>-106.305022</td>\n",
       "      <td>Acid/Pueblo Canyon</td>\n",
       "    </tr>\n",
       "    <tr>\n",
       "      <th>1</th>\n",
       "      <td>39.503487</td>\n",
       "      <td>-84.743859</td>\n",
       "      <td>Alba Craft Shop</td>\n",
       "    </tr>\n",
       "  </tbody>\n",
       "</table>\n",
       "</div>"
      ],
      "text/plain": [
       "         lat         lon                text\n",
       "0  35.888827 -106.305022  Acid/Pueblo Canyon\n",
       "1  39.503487  -84.743859     Alba Craft Shop"
      ]
     },
     "execution_count": 71,
     "metadata": {},
     "output_type": "execute_result"
    }
   ],
   "source": [
    "df.head(2)"
   ]
  },
  {
   "cell_type": "code",
   "execution_count": 72,
   "metadata": {},
   "outputs": [],
   "source": [
    "site_lat = df.lat\n",
    "site_lon = df.lon\n",
    "locations_name = df.text"
   ]
  },
  {
   "cell_type": "code",
   "execution_count": 82,
   "metadata": {},
   "outputs": [
    {
     "data": {
      "application/vnd.plotly.v1+json": {
       "data": [
        {
         "hoverinfo": "text",
         "lat": [
          35.888827299999996,
          39.503487299999996,
          44.6208218,
          40.641371,
          39.361063,
          39.9573541,
          41.672189,
          40.746102,
          35.8997249,
          42.841147,
          41.8881016,
          40.5376109,
          42.1542011,
          34.214928,
          38.6870307,
          38.6926197,
          37.872571,
          39.382248499999996,
          40.7087363,
          40.577768,
          41.7986843,
          40.4702797,
          43.2209056,
          36.0427296,
          41.4007898,
          42.9918367,
          41.7924797,
          42.540470299999996,
          40.9696277
         ],
         "lon": [
          -106.3050223,
          -84.7438586,
          -123.1209165,
          -80.242936,
          -84.54075,
          -83.0114552,
          -83.568625,
          -74.0066415,
          -106.29012709999999,
          -78.83406,
          -84.0164792,
          -79.7820937,
          -72.4997776,
          -105.8793205,
          -90.16736159999999,
          -90.16229,
          -122.256179,
          -84.5471105,
          -74.1012813,
          -74.49656440000001,
          -87.60693690000001,
          -74.47625409999999,
          -78.9737308,
          -84.2066525,
          -73.072232,
          -78.92010079999999,
          -87.60103609999999,
          -70.8888085,
          -74.2707793
         ],
         "marker": {
          "color": "rgb(255,0,0)",
          "opacity": 0.7,
          "size": 17
         },
         "mode": "markers",
         "text": [
          "Acid/Pueblo Canyon",
          "Alba Craft Shop",
          "\"Albany, Oregon, FUSRAP Site\"",
          "Aliquippa Forge",
          "Associated Aircraft Tool and Manufacturing Co.",
          "B & T Metals",
          "Baker Brothers",
          "Baker and Williams Warehouses",
          "\"Bayo Canyon, New Mexico, FUSRAP Site\"",
          "Bliss and Laughlin Steel",
          "Bridgeport Brass Co.",
          "C.H. Schnorr",
          "Chapman Valve",
          "\"Chupadera Mesa, New Mexico, FUSRAP Site\"",
          "\"Dow Chemical Co., Madison Site\"",
          "General Steel Industries",
          "\"Gilman Hall, University of California at Berkeley\"",
          "Hamilton OH Site",
          "Jersey City FUSRAP Site",
          "Middlesex North Site",
          "National Guard Armory",
          "\"New Brunswick, NJ, FUSRAP Site\"",
          "Niagara Falls Vicinity Properties",
          "\"Oak Ridge, TN, Warehouse Site\"",
          "Seymour Specialty Wire",
          "Tonawanda North FUSRAP Site",
          "University of Chicago Metallurgical Laboratory",
          "Ventron Corporation",
          "Wayne FUSRAP Site"
         ],
         "type": "scattermapbox"
        },
        {
         "hoverinfo": "none",
         "lat": [
          35.888827299999996,
          39.503487299999996,
          44.6208218,
          40.641371,
          39.361063,
          39.9573541,
          41.672189,
          40.746102,
          35.8997249,
          42.841147,
          41.8881016,
          40.5376109,
          42.1542011,
          34.214928,
          38.6870307,
          38.6926197,
          37.872571,
          39.382248499999996,
          40.7087363,
          40.577768,
          41.7986843,
          40.4702797,
          43.2209056,
          36.0427296,
          41.4007898,
          42.9918367,
          41.7924797,
          42.540470299999996,
          40.9696277
         ],
         "lon": [
          -106.3050223,
          -84.7438586,
          -123.1209165,
          -80.242936,
          -84.54075,
          -83.0114552,
          -83.568625,
          -74.0066415,
          -106.29012709999999,
          -78.83406,
          -84.0164792,
          -79.7820937,
          -72.4997776,
          -105.8793205,
          -90.16736159999999,
          -90.16229,
          -122.256179,
          -84.5471105,
          -74.1012813,
          -74.49656440000001,
          -87.60693690000001,
          -74.47625409999999,
          -78.9737308,
          -84.2066525,
          -73.072232,
          -78.92010079999999,
          -87.60103609999999,
          -70.8888085,
          -74.2707793
         ],
         "marker": {
          "color": "rgb(242,177,172)",
          "opacity": 0.7,
          "size": 8
         },
         "mode": "markers",
         "text": [
          "Acid/Pueblo Canyon",
          "Alba Craft Shop",
          "\"Albany, Oregon, FUSRAP Site\"",
          "Aliquippa Forge",
          "Associated Aircraft Tool and Manufacturing Co.",
          "B & T Metals",
          "Baker Brothers",
          "Baker and Williams Warehouses",
          "\"Bayo Canyon, New Mexico, FUSRAP Site\"",
          "Bliss and Laughlin Steel",
          "Bridgeport Brass Co.",
          "C.H. Schnorr",
          "Chapman Valve",
          "\"Chupadera Mesa, New Mexico, FUSRAP Site\"",
          "\"Dow Chemical Co., Madison Site\"",
          "General Steel Industries",
          "\"Gilman Hall, University of California at Berkeley\"",
          "Hamilton OH Site",
          "Jersey City FUSRAP Site",
          "Middlesex North Site",
          "National Guard Armory",
          "\"New Brunswick, NJ, FUSRAP Site\"",
          "Niagara Falls Vicinity Properties",
          "\"Oak Ridge, TN, Warehouse Site\"",
          "Seymour Specialty Wire",
          "Tonawanda North FUSRAP Site",
          "University of Chicago Metallurgical Laboratory",
          "Ventron Corporation",
          "Wayne FUSRAP Site"
         ],
         "type": "scattermapbox"
        }
       ],
       "layout": {
        "hovermode": "closest",
        "mapbox": {
         "accesstoken": "pk.eyJ1IjoiYW5kcmVzODkwMiIsImEiOiJjamNjYnFueWEwNmd4MzNybm1iZndpOGU0In0.6N-RqzOOEBjaR-7oG0TcGg",
         "bearing": 0,
         "center": {
          "lat": 38,
          "lon": -94
         },
         "pitch": 0,
         "style": "light",
         "zoom": 3
        },
        "showlegend": false,
        "title": "Nuclear Waste Sites on Campus"
       }
      },
      "text/html": [
       "<div id=\"a7ca0c2b-7d74-488d-a2cb-c5c4250df85d\" style=\"height: 525px; width: 100%;\" class=\"plotly-graph-div\"></div><script type=\"text/javascript\">require([\"plotly\"], function(Plotly) { window.PLOTLYENV=window.PLOTLYENV || {};window.PLOTLYENV.BASE_URL=\"https://plot.ly\";Plotly.newPlot(\"a7ca0c2b-7d74-488d-a2cb-c5c4250df85d\", [{\"text\": [\"Acid/Pueblo Canyon\", \"Alba Craft Shop\", \"\\\"Albany, Oregon, FUSRAP Site\\\"\", \"Aliquippa Forge\", \"Associated Aircraft Tool and Manufacturing Co.\", \"B & T Metals\", \"Baker Brothers\", \"Baker and Williams Warehouses\", \"\\\"Bayo Canyon, New Mexico, FUSRAP Site\\\"\", \"Bliss and Laughlin Steel\", \"Bridgeport Brass Co.\", \"C.H. Schnorr\", \"Chapman Valve\", \"\\\"Chupadera Mesa, New Mexico, FUSRAP Site\\\"\", \"\\\"Dow Chemical Co., Madison Site\\\"\", \"General Steel Industries\", \"\\\"Gilman Hall, University of California at Berkeley\\\"\", \"Hamilton OH Site\", \"Jersey City FUSRAP Site\", \"Middlesex North Site\", \"National Guard Armory\", \"\\\"New Brunswick, NJ, FUSRAP Site\\\"\", \"Niagara Falls Vicinity Properties\", \"\\\"Oak Ridge, TN, Warehouse Site\\\"\", \"Seymour Specialty Wire\", \"Tonawanda North FUSRAP Site\", \"University of Chicago Metallurgical Laboratory\", \"Ventron Corporation\", \"Wayne FUSRAP Site\"], \"lon\": [-106.3050223, -84.7438586, -123.1209165, -80.242936, -84.54075, -83.0114552, -83.568625, -74.0066415, -106.29012709999999, -78.83406, -84.0164792, -79.7820937, -72.4997776, -105.8793205, -90.16736159999999, -90.16229, -122.256179, -84.5471105, -74.1012813, -74.49656440000001, -87.60693690000001, -74.47625409999999, -78.9737308, -84.2066525, -73.072232, -78.92010079999999, -87.60103609999999, -70.8888085, -74.2707793], \"marker\": {\"opacity\": 0.7, \"color\": \"rgb(255,0,0)\", \"size\": 17}, \"mode\": \"markers\", \"hoverinfo\": \"text\", \"lat\": [35.888827299999996, 39.503487299999996, 44.6208218, 40.641371, 39.361063, 39.9573541, 41.672189, 40.746102, 35.8997249, 42.841147, 41.8881016, 40.5376109, 42.1542011, 34.214928, 38.6870307, 38.6926197, 37.872571, 39.382248499999996, 40.7087363, 40.577768, 41.7986843, 40.4702797, 43.2209056, 36.0427296, 41.4007898, 42.9918367, 41.7924797, 42.540470299999996, 40.9696277], \"type\": \"scattermapbox\"}, {\"text\": [\"Acid/Pueblo Canyon\", \"Alba Craft Shop\", \"\\\"Albany, Oregon, FUSRAP Site\\\"\", \"Aliquippa Forge\", \"Associated Aircraft Tool and Manufacturing Co.\", \"B & T Metals\", \"Baker Brothers\", \"Baker and Williams Warehouses\", \"\\\"Bayo Canyon, New Mexico, FUSRAP Site\\\"\", \"Bliss and Laughlin Steel\", \"Bridgeport Brass Co.\", \"C.H. Schnorr\", \"Chapman Valve\", \"\\\"Chupadera Mesa, New Mexico, FUSRAP Site\\\"\", \"\\\"Dow Chemical Co., Madison Site\\\"\", \"General Steel Industries\", \"\\\"Gilman Hall, University of California at Berkeley\\\"\", \"Hamilton OH Site\", \"Jersey City FUSRAP Site\", \"Middlesex North Site\", \"National Guard Armory\", \"\\\"New Brunswick, NJ, FUSRAP Site\\\"\", \"Niagara Falls Vicinity Properties\", \"\\\"Oak Ridge, TN, Warehouse Site\\\"\", \"Seymour Specialty Wire\", \"Tonawanda North FUSRAP Site\", \"University of Chicago Metallurgical Laboratory\", \"Ventron Corporation\", \"Wayne FUSRAP Site\"], \"lon\": [-106.3050223, -84.7438586, -123.1209165, -80.242936, -84.54075, -83.0114552, -83.568625, -74.0066415, -106.29012709999999, -78.83406, -84.0164792, -79.7820937, -72.4997776, -105.8793205, -90.16736159999999, -90.16229, -122.256179, -84.5471105, -74.1012813, -74.49656440000001, -87.60693690000001, -74.47625409999999, -78.9737308, -84.2066525, -73.072232, -78.92010079999999, -87.60103609999999, -70.8888085, -74.2707793], \"marker\": {\"opacity\": 0.7, \"color\": \"rgb(242,177,172)\", \"size\": 8}, \"mode\": \"markers\", \"hoverinfo\": \"none\", \"lat\": [35.888827299999996, 39.503487299999996, 44.6208218, 40.641371, 39.361063, 39.9573541, 41.672189, 40.746102, 35.8997249, 42.841147, 41.8881016, 40.5376109, 42.1542011, 34.214928, 38.6870307, 38.6926197, 37.872571, 39.382248499999996, 40.7087363, 40.577768, 41.7986843, 40.4702797, 43.2209056, 36.0427296, 41.4007898, 42.9918367, 41.7924797, 42.540470299999996, 40.9696277], \"type\": \"scattermapbox\"}], {\"showlegend\": false, \"mapbox\": {\"bearing\": 0, \"style\": \"light\", \"center\": {\"lat\": 38, \"lon\": -94}, \"accesstoken\": \"pk.eyJ1IjoiYW5kcmVzODkwMiIsImEiOiJjamNjYnFueWEwNmd4MzNybm1iZndpOGU0In0.6N-RqzOOEBjaR-7oG0TcGg\", \"zoom\": 3, \"pitch\": 0}, \"hovermode\": \"closest\", \"title\": \"Nuclear Waste Sites on Campus\"}, {\"linkText\": \"Export to plot.ly\", \"showLink\": true})});</script>"
      ],
      "text/vnd.plotly.v1+html": [
       "<div id=\"a7ca0c2b-7d74-488d-a2cb-c5c4250df85d\" style=\"height: 525px; width: 100%;\" class=\"plotly-graph-div\"></div><script type=\"text/javascript\">require([\"plotly\"], function(Plotly) { window.PLOTLYENV=window.PLOTLYENV || {};window.PLOTLYENV.BASE_URL=\"https://plot.ly\";Plotly.newPlot(\"a7ca0c2b-7d74-488d-a2cb-c5c4250df85d\", [{\"text\": [\"Acid/Pueblo Canyon\", \"Alba Craft Shop\", \"\\\"Albany, Oregon, FUSRAP Site\\\"\", \"Aliquippa Forge\", \"Associated Aircraft Tool and Manufacturing Co.\", \"B & T Metals\", \"Baker Brothers\", \"Baker and Williams Warehouses\", \"\\\"Bayo Canyon, New Mexico, FUSRAP Site\\\"\", \"Bliss and Laughlin Steel\", \"Bridgeport Brass Co.\", \"C.H. Schnorr\", \"Chapman Valve\", \"\\\"Chupadera Mesa, New Mexico, FUSRAP Site\\\"\", \"\\\"Dow Chemical Co., Madison Site\\\"\", \"General Steel Industries\", \"\\\"Gilman Hall, University of California at Berkeley\\\"\", \"Hamilton OH Site\", \"Jersey City FUSRAP Site\", \"Middlesex North Site\", \"National Guard Armory\", \"\\\"New Brunswick, NJ, FUSRAP Site\\\"\", \"Niagara Falls Vicinity Properties\", \"\\\"Oak Ridge, TN, Warehouse Site\\\"\", \"Seymour Specialty Wire\", \"Tonawanda North FUSRAP Site\", \"University of Chicago Metallurgical Laboratory\", \"Ventron Corporation\", \"Wayne FUSRAP Site\"], \"lon\": [-106.3050223, -84.7438586, -123.1209165, -80.242936, -84.54075, -83.0114552, -83.568625, -74.0066415, -106.29012709999999, -78.83406, -84.0164792, -79.7820937, -72.4997776, -105.8793205, -90.16736159999999, -90.16229, -122.256179, -84.5471105, -74.1012813, -74.49656440000001, -87.60693690000001, -74.47625409999999, -78.9737308, -84.2066525, -73.072232, -78.92010079999999, -87.60103609999999, -70.8888085, -74.2707793], \"marker\": {\"opacity\": 0.7, \"color\": \"rgb(255,0,0)\", \"size\": 17}, \"mode\": \"markers\", \"hoverinfo\": \"text\", \"lat\": [35.888827299999996, 39.503487299999996, 44.6208218, 40.641371, 39.361063, 39.9573541, 41.672189, 40.746102, 35.8997249, 42.841147, 41.8881016, 40.5376109, 42.1542011, 34.214928, 38.6870307, 38.6926197, 37.872571, 39.382248499999996, 40.7087363, 40.577768, 41.7986843, 40.4702797, 43.2209056, 36.0427296, 41.4007898, 42.9918367, 41.7924797, 42.540470299999996, 40.9696277], \"type\": \"scattermapbox\"}, {\"text\": [\"Acid/Pueblo Canyon\", \"Alba Craft Shop\", \"\\\"Albany, Oregon, FUSRAP Site\\\"\", \"Aliquippa Forge\", \"Associated Aircraft Tool and Manufacturing Co.\", \"B & T Metals\", \"Baker Brothers\", \"Baker and Williams Warehouses\", \"\\\"Bayo Canyon, New Mexico, FUSRAP Site\\\"\", \"Bliss and Laughlin Steel\", \"Bridgeport Brass Co.\", \"C.H. Schnorr\", \"Chapman Valve\", \"\\\"Chupadera Mesa, New Mexico, FUSRAP Site\\\"\", \"\\\"Dow Chemical Co., Madison Site\\\"\", \"General Steel Industries\", \"\\\"Gilman Hall, University of California at Berkeley\\\"\", \"Hamilton OH Site\", \"Jersey City FUSRAP Site\", \"Middlesex North Site\", \"National Guard Armory\", \"\\\"New Brunswick, NJ, FUSRAP Site\\\"\", \"Niagara Falls Vicinity Properties\", \"\\\"Oak Ridge, TN, Warehouse Site\\\"\", \"Seymour Specialty Wire\", \"Tonawanda North FUSRAP Site\", \"University of Chicago Metallurgical Laboratory\", \"Ventron Corporation\", \"Wayne FUSRAP Site\"], \"lon\": [-106.3050223, -84.7438586, -123.1209165, -80.242936, -84.54075, -83.0114552, -83.568625, -74.0066415, -106.29012709999999, -78.83406, -84.0164792, -79.7820937, -72.4997776, -105.8793205, -90.16736159999999, -90.16229, -122.256179, -84.5471105, -74.1012813, -74.49656440000001, -87.60693690000001, -74.47625409999999, -78.9737308, -84.2066525, -73.072232, -78.92010079999999, -87.60103609999999, -70.8888085, -74.2707793], \"marker\": {\"opacity\": 0.7, \"color\": \"rgb(242,177,172)\", \"size\": 8}, \"mode\": \"markers\", \"hoverinfo\": \"none\", \"lat\": [35.888827299999996, 39.503487299999996, 44.6208218, 40.641371, 39.361063, 39.9573541, 41.672189, 40.746102, 35.8997249, 42.841147, 41.8881016, 40.5376109, 42.1542011, 34.214928, 38.6870307, 38.6926197, 37.872571, 39.382248499999996, 40.7087363, 40.577768, 41.7986843, 40.4702797, 43.2209056, 36.0427296, 41.4007898, 42.9918367, 41.7924797, 42.540470299999996, 40.9696277], \"type\": \"scattermapbox\"}], {\"showlegend\": false, \"mapbox\": {\"bearing\": 0, \"style\": \"light\", \"center\": {\"lat\": 38, \"lon\": -94}, \"accesstoken\": \"pk.eyJ1IjoiYW5kcmVzODkwMiIsImEiOiJjamNjYnFueWEwNmd4MzNybm1iZndpOGU0In0.6N-RqzOOEBjaR-7oG0TcGg\", \"zoom\": 3, \"pitch\": 0}, \"hovermode\": \"closest\", \"title\": \"Nuclear Waste Sites on Campus\"}, {\"linkText\": \"Export to plot.ly\", \"showLink\": true})});</script>"
      ]
     },
     "metadata": {},
     "output_type": "display_data"
    }
   ],
   "source": [
    "data = go.Data([\n",
    "    go.Scattermapbox(\n",
    "        lat = site_lat,\n",
    "        lon = site_lon,\n",
    "        mode = 'markers',\n",
    "        marker = go.Marker(\n",
    "            size = 17,\n",
    "            color = 'rgb(255,0,0)',\n",
    "            opacity = 0.7\n",
    "        ),\n",
    "        text = locations_name,\n",
    "        hoverinfo = 'text'\n",
    "    ),\n",
    "    go.Scattermapbox(\n",
    "        lat = site_lat,\n",
    "        lon = site_lon,\n",
    "        mode = 'markers',\n",
    "        marker = go.Marker(\n",
    "            size = 8,\n",
    "            color = 'rgb(242,177,172)',\n",
    "            opacity = 0.7\n",
    "        ),\n",
    "        text = locations_name,\n",
    "        hoverinfo = 'none'\n",
    "    )\n",
    "])\n",
    "\n",
    "layout = go.Layout(\n",
    "    title='Nuclear Waste Sites on Campus',\n",
    "    #autosize=True,\n",
    "    hovermode='closest',\n",
    "    showlegend=False,\n",
    "    mapbox=dict(\n",
    "        accesstoken = mapbox_access_token,\n",
    "        bearing = 0,\n",
    "        center = dict(\n",
    "            lat = 38,\n",
    "            lon = -94\n",
    "        ),\n",
    "        pitch = 0,\n",
    "        zoom = 3,\n",
    "        style='light'\n",
    "    \n",
    "    )\n",
    "\n",
    ")\n",
    "\n",
    "fig = dict(data=data,layout=layout)\n",
    "iplot(fig)"
   ]
  },
  {
   "cell_type": "code",
   "execution_count": null,
   "metadata": {},
   "outputs": [],
   "source": []
  }
 ],
 "metadata": {
  "kernelspec": {
   "display_name": "Python 2",
   "language": "python",
   "name": "python2"
  },
  "language_info": {
   "codemirror_mode": {
    "name": "ipython",
    "version": 2
   },
   "file_extension": ".py",
   "mimetype": "text/x-python",
   "name": "python",
   "nbconvert_exporter": "python",
   "pygments_lexer": "ipython2",
   "version": "2.7.13"
  }
 },
 "nbformat": 4,
 "nbformat_minor": 2
}
