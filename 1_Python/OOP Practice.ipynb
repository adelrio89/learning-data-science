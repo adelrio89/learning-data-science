{
 "cells": [
  {
   "cell_type": "code",
   "execution_count": 4,
   "metadata": {},
   "outputs": [
    {
     "name": "stdout",
     "output_type": "stream",
     "text": [
      "   |   |\n",
      " X |   |  \n",
      "   |   |\n",
      "-----------\n",
      "   |   |\n",
      " O | X | O\n",
      "   |   |\n",
      "-----------\n",
      "   |   |\n",
      " X | O | X\n",
      "   |   |\n",
      "You won!\n",
      "Would you like to play again? Yes/NoNo\n",
      "Game over! If you want to play again, call tic_tac_toe_2() again!\n"
     ]
    }
   ],
   "source": [
    "from __future__ import print_function\n",
    "from IPython.display import clear_output\n",
    "\n",
    "def print_board(board):\n",
    "    clear_output()\n",
    "    print(\"   |   |\")\n",
    "    print(\" \" + board[7] + \" | \" + board[8] + \" | \" + board[9])\n",
    "    print(\"   |   |\")\n",
    "    print(\"-----------\")\n",
    "    print(\"   |   |\")\n",
    "    print(\" \" + board[4] + \" | \" + board[5] + \" | \" + board[6])\n",
    "    print(\"   |   |\")\n",
    "    print(\"-----------\")\n",
    "    print(\"   |   |\")\n",
    "    print(\" \" + board[1] + \" | \" + board[2] + \" | \" + board[3])\n",
    "    print(\"   |   |\")\n",
    "    \n",
    "    \n",
    "\n",
    "def pos_not_taken(board, pos):\n",
    "    return board[pos] == ' '\n",
    "\n",
    "def full_board(board):\n",
    "    for i in range(10):\n",
    "        if pos_not_taken(board,i):\n",
    "            return False\n",
    "    return True\n",
    "\n",
    "def move(board,player, pos):\n",
    "    board[pos] = player\n",
    "\n",
    "def sb_won(board, player):\n",
    "    return  ((board[1] == player and board[2] == player and board[3] == player) or\n",
    "            (board[4] == player and board[5] == player and board[6] == player) or\n",
    "            (board[7] == player and board[8] == player and board[9] == player) or\n",
    "            (board[1] == player and board[4] == player and board[7] == player) or\n",
    "            (board[2] == player and board[5] == player and board[8] == player) or\n",
    "            (board[3] == player and board[6] == player and board[9] == player) or\n",
    "            (board[1] == player and board[5] == player and board[9] == player) or\n",
    "            (board[3] == player and board[5] == player and board[7] == player))\n",
    "\n",
    "def player_choice(board):\n",
    "    position = '0'\n",
    "    while not pos_not_taken(board, int(position)) or not position in ['1','2','3','4','5','6','7','8','9']:\n",
    "        position = raw_input('Choose your next position (1-9):')\n",
    "    return int(position)\n",
    "\n",
    "def replay():\n",
    "    return raw_input(\"Would you like to play again? Yes/No\").lower().startswith('y')\n",
    "    \n",
    "def tic_tac_toe_2():\n",
    "    play= True\n",
    "    while True:\n",
    "        board = [' '] * 10\n",
    "        print(\"Player 1 plays with 'X' symbol\")\n",
    "        print(\"Player 2 plays with 'O' symbol\")\n",
    "        turn = 'Player 1 (X)'\n",
    "        while play:\n",
    "            print('Turn: %s' %turn)\n",
    "            if turn == 'Player 1 (X)':\n",
    "                choice = player_choice(board)\n",
    "                move(board, 'X', choice)\n",
    "                print_board(board)\n",
    "                if (sb_won(board,'X')):\n",
    "                    print('You won!')\n",
    "                    break\n",
    "                else:\n",
    "                    if full_board(board):\n",
    "                        print(\"Tie!\")\n",
    "                        break\n",
    "                    else:\n",
    "                        turn = 'Player 2 (O)'\n",
    "            else:\n",
    "                choice = player_choice(board)\n",
    "                move(board, 'O', choice)\n",
    "                print_board(board)\n",
    "                if (sb_won(board,'O')):\n",
    "                    print('You won!')\n",
    "                    break\n",
    "                else:\n",
    "                    if full_board(board):\n",
    "                        print(\"Tie!\")\n",
    "                        break\n",
    "                    else:\n",
    "                        turn = 'Player 1 (X)'\n",
    "        if replay():\n",
    "            play = True\n",
    "        else:\n",
    "            print(\"Game over! If you want to play again, call tic_tac_toe_2() again!\")\n",
    "            break\n",
    "\n",
    "tic_tac_toe_2()"
   ]
  },
  {
   "cell_type": "code",
   "execution_count": 7,
   "metadata": {},
   "outputs": [
    {
     "name": "stdout",
     "output_type": "stream",
     "text": [
      "<class '__main__.Sample'>\n"
     ]
    }
   ],
   "source": [
    "class Sample(object):\n",
    "    pass\n",
    "x = Sample()\n",
    "print(type(x))"
   ]
  },
  {
   "cell_type": "code",
   "execution_count": 8,
   "metadata": {},
   "outputs": [
    {
     "name": "stdout",
     "output_type": "stream",
     "text": [
      "2\n",
      "12.56\n"
     ]
    }
   ],
   "source": [
    "class Circle(object):\n",
    "    pi = 3.14\n",
    "    def __init__(self, radius=1):\n",
    "        self.radius = radius\n",
    "        \n",
    "    def area(self):\n",
    "        return self.radius * self.radius * Circle.pi\n",
    "    \n",
    "    def setRadius(self, radius):\n",
    "        self.radius =  radius\n",
    "        \n",
    "    def getRadius(self):\n",
    "        return self.radius\n",
    "    \n",
    "c = Circle()\n",
    "c.setRadius(2)\n",
    "print(c.getRadius())\n",
    "print(c.area())"
   ]
  },
  {
   "cell_type": "code",
   "execution_count": 14,
   "metadata": {},
   "outputs": [
    {
     "name": "stdout",
     "output_type": "stream",
     "text": [
      "Animal created\n",
      "Dog created\n",
      "Dog eating\n",
      "Barking\n"
     ]
    }
   ],
   "source": [
    "class Animal(object):\n",
    "    def __init__(self):\n",
    "        print(\"Animal created\")\n",
    "        \n",
    "    def eat(self):\n",
    "        print(\"Eating\")\n",
    "        \n",
    "class Dog(Animal):\n",
    "    def __init__(self):\n",
    "        Animal.__init__(self)\n",
    "        print(\"Dog created\")\n",
    "        \n",
    "    def eat(self):\n",
    "        print(\"Dog eating\")\n",
    "        \n",
    "    def bark(self):\n",
    "        print(\"Barking\")\n",
    "        \n",
    "d = Dog()\n",
    "d.eat()\n",
    "d.bark()"
   ]
  },
  {
   "cell_type": "code",
   "execution_count": 17,
   "metadata": {},
   "outputs": [
    {
     "name": "stdout",
     "output_type": "stream",
     "text": [
      "Author Gabriel García, title Cien años de soledad, pages 500\n"
     ]
    }
   ],
   "source": [
    "class Book(object):\n",
    "    def __init__(self,author,title, pages):\n",
    "        self.author = author\n",
    "        self.title = title\n",
    "        self.pages = pages\n",
    "\n",
    "    def __str__(self):\n",
    "        return \"Author %s, title %s, pages %s\" %(self.author, self.title, self.pages)\n",
    "    \n",
    "    def __len__(self):\n",
    "        return self.pages\n",
    "    \n",
    "b = Book(\"Gabriel García\", \"Cien años de soledad\", 500)\n",
    "print(b)"
   ]
  },
  {
   "cell_type": "code",
   "execution_count": 18,
   "metadata": {},
   "outputs": [
    {
     "name": "stdout",
     "output_type": "stream",
     "text": [
      "500\n"
     ]
    }
   ],
   "source": [
    "print(len(b))"
   ]
  },
  {
   "cell_type": "code",
   "execution_count": 19,
   "metadata": {},
   "outputs": [
    {
     "data": {
      "text/plain": [
       "500"
      ]
     },
     "execution_count": 19,
     "metadata": {},
     "output_type": "execute_result"
    }
   ],
   "source": [
    "len(b)\n"
   ]
  },
  {
   "cell_type": "code",
   "execution_count": 20,
   "metadata": {},
   "outputs": [
    {
     "data": {
      "text/plain": [
       "<__main__.Book at 0x2e798d0>"
      ]
     },
     "execution_count": 20,
     "metadata": {},
     "output_type": "execute_result"
    }
   ],
   "source": [
    "b\n"
   ]
  },
  {
   "cell_type": "code",
   "execution_count": 21,
   "metadata": {},
   "outputs": [
    {
     "name": "stdout",
     "output_type": "stream",
     "text": [
      "<class '__main__.Book'>\n"
     ]
    }
   ],
   "source": [
    "print(type(b))"
   ]
  },
  {
   "cell_type": "code",
   "execution_count": 27,
   "metadata": {},
   "outputs": [
    {
     "name": "stdout",
     "output_type": "stream",
     "text": [
      "1.6\n",
      "9.43398113206\n"
     ]
    }
   ],
   "source": [
    "\n",
    "\n",
    "class Line(object):\n",
    "    \n",
    "    def __init__(self,coor1,coor2):\n",
    "        self.coor1 = coor1\n",
    "        self.coor2 = coor2\n",
    "    \n",
    "    def distance(self):\n",
    "        return (((self.coor2[1]-self.coor1[1])**2)+((self.coor2[0]-self.coor1[0])**2))**0.5\n",
    "    \n",
    "    def slope(self):\n",
    "        return float((self.coor2[1]-self.coor1[1]))/(self.coor2[0]-self.coor1[0])\n",
    "    \n",
    "coordinate1 = (3,2)\n",
    "coordinate2 = (8,10)\n",
    "\n",
    "li = Line(coordinate1,coordinate2)\n",
    "print(li.slope())\n",
    "print(li.distance())"
   ]
  },
  {
   "cell_type": "code",
   "execution_count": 34,
   "metadata": {},
   "outputs": [
    {
     "name": "stdout",
     "output_type": "stream",
     "text": [
      "Enter a number: five\n",
      "Looks like you entered sth but a number\n",
      "This is always printed\n",
      "Enter a number: four\n",
      "Looks like you entered sth but a number\n",
      "This is always printed\n",
      "Enter a number: 5\n",
      "You did well\n",
      "This is always printed\n"
     ]
    }
   ],
   "source": [
    "def askint():\n",
    "    while True:\n",
    "        try:\n",
    "            num = int(raw_input(\"Enter a number: \"))\n",
    "        except:\n",
    "            print(\"Looks like you entered sth but a number\")\n",
    "            continue\n",
    "        else:\n",
    "            print(\"You did well\")\n",
    "            break\n",
    "        finally:\n",
    "            print(\"This is always printed\")\n",
    "askint()"
   ]
  },
  {
   "cell_type": "code",
   "execution_count": 35,
   "metadata": {},
   "outputs": [
    {
     "name": "stdout",
     "output_type": "stream",
     "text": [
      "Seems like sth went wrong\n",
      "All done\n"
     ]
    }
   ],
   "source": [
    "x = 5\n",
    "y = 0\n",
    "try:\n",
    "    z = x/y\n",
    "except:\n",
    "    print(\"Seems like sth went wrong\")\n",
    "finally:\n",
    "    print(\"All done\")"
   ]
  },
  {
   "cell_type": "code",
   "execution_count": 5,
   "metadata": {},
   "outputs": [
    {
     "data": {
      "text/plain": [
       "['D', 'H', 'J', 'A', '1', '2', '3', '4']"
      ]
     },
     "execution_count": 5,
     "metadata": {},
     "output_type": "execute_result"
    }
   ],
   "source": [
    "suits = ['D','H','J']\n",
    "rankings = ['A','1','2','3','4']\n",
    "suits + rankings"
   ]
  },
  {
   "cell_type": "code",
   "execution_count": 6,
   "metadata": {},
   "outputs": [
    {
     "data": {
      "text/plain": [
       "' AD 1D 2D 3D 4D AH 1H 2H 3H 4H AJ 1J 2J 3J 4J'"
      ]
     },
     "execution_count": 6,
     "metadata": {},
     "output_type": "execute_result"
    }
   ],
   "source": [
    "deck = ''\n",
    "for s in suits:\n",
    "    for r in rankings:\n",
    "         deck = deck + ' ' + r+s\n",
    "deck"
   ]
  },
  {
   "cell_type": "code",
   "execution_count": 7,
   "metadata": {},
   "outputs": [],
   "source": [
    "deck = deck.split()"
   ]
  },
  {
   "cell_type": "code",
   "execution_count": 8,
   "metadata": {},
   "outputs": [
    {
     "data": {
      "text/plain": [
       "['AD',\n",
       " '1D',\n",
       " '2D',\n",
       " '3D',\n",
       " '4D',\n",
       " 'AH',\n",
       " '1H',\n",
       " '2H',\n",
       " '3H',\n",
       " '4H',\n",
       " 'AJ',\n",
       " '1J',\n",
       " '2J',\n",
       " '3J',\n",
       " '4J']"
      ]
     },
     "execution_count": 8,
     "metadata": {},
     "output_type": "execute_result"
    }
   ],
   "source": [
    "deck"
   ]
  },
  {
   "cell_type": "code",
   "execution_count": null,
   "metadata": {},
   "outputs": [],
   "source": []
  }
 ],
 "metadata": {
  "kernelspec": {
   "display_name": "Python 2",
   "language": "python",
   "name": "python2"
  },
  "language_info": {
   "codemirror_mode": {
    "name": "ipython",
    "version": 2
   },
   "file_extension": ".py",
   "mimetype": "text/x-python",
   "name": "python",
   "nbconvert_exporter": "python",
   "pygments_lexer": "ipython2",
   "version": "2.7.13"
  }
 },
 "nbformat": 4,
 "nbformat_minor": 2
}
