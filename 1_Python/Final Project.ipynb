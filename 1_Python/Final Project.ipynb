{
 "cells": [
  {
   "cell_type": "code",
   "execution_count": null,
   "metadata": {},
   "outputs": [
    {
     "name": "stdout",
     "output_type": "stream",
     "text": [
      "Write the word you want to the function to look up in the files: index\n",
      "'index' is 10 time(s) in the file(s) [1, 2, 3]\n",
      "Do you want to make a new query? y/ny\n",
      "Write the word you want to the function to look up in the files: file\n",
      "'file' is 8 time(s) in the file(s) [1, 2, 3]\n",
      "Do you want to make a new query? y/ny\n",
      "Write the word you want to the function to look up in the files: to\n",
      "'to' is 8 time(s) in the file(s) [1, 2]\n"
     ]
    }
   ],
   "source": [
    "'''\n",
    "This program creates an inversed index based on the content of the current directory's files with the structure \"fileN.txt\" \n",
    "-where N is 1,2,3,etc-, and allows the user to know which file(s) the word s/he looks up is in\n",
    "'''\n",
    "\n",
    "import re, os\n",
    "\n",
    "# The dictionary for the inversed index is going to be created\n",
    "index = {}\n",
    "\n",
    "def clean_content(file_words):\n",
    "    '''Removes all the special characters within a file leaving only chars and numbers'''\n",
    "    return map(lambda word : re.sub('[^A-Za-z0-9]+', '', word), file_words)\n",
    "    #return filter(str.isalnum, file_words)\n",
    "\n",
    "def read_files():\n",
    "    '''Reads the files in the current directory. The files' names must be \"fileN.txt\" -where N is 1,2,3,4...'''\n",
    "    files = []\n",
    "    fileNames = [f for f in os.listdir('.') if os.path.isfile(f) and f.endswith('.txt') and f.startswith('file')]\n",
    "    for name in fileNames:\n",
    "        f = open(name,'r')\n",
    "        data = f.read().split()\n",
    "        data = clean_content(data)\n",
    "        f.close()\n",
    "        files.extend([data])\n",
    "    return files\n",
    "    \n",
    "def create_index():\n",
    "    '''Creates an inversed index based on the content of a list of files'''\n",
    "    global index\n",
    "    word_files = []\n",
    "    files = read_files()\n",
    "\n",
    "    for i,f in enumerate(files):\n",
    "        index_f = {}\n",
    "        for word in f:\n",
    "            \n",
    "            num = f.count(word)\n",
    "            nl = i+1\n",
    "            word_files = [nl]\n",
    "\n",
    "            #First time the function encounters the word in the current file (represented by a local dictionary-index)\n",
    "            if not index_f.has_key(word):\n",
    "                \n",
    "                index_f[word] = [num, word_files]\n",
    "\n",
    "                #Add the new word to the global dictionary-index\n",
    "                if index.has_key(word):\n",
    "                    index[word][0] = index[word][0] + num\n",
    "                    index[word][1].extend(word_files)\n",
    "                else:\n",
    "                    index[word] = index_f[word]\n",
    "    \n",
    "    return index\n",
    "\n",
    "def start():\n",
    "    '''Allows a user to look up a word in the current directory's files by \n",
    "    using an inversed index'''\n",
    "    word = raw_input('Write the word you want to the function to look up in the files: ')\n",
    "    if index.has_key(word):\n",
    "        #print word, ' is ', index[word][0], ' time(s) in file(s): ', index[word][1]\n",
    "        print '%r is %s time(s) in the file(s) %s' %(word,index[word][0],index[word][1])\n",
    "    else:\n",
    "        print 'Sorry!, %r is not in any of the files' %word\n",
    "    \n",
    "    restart = raw_input(\"Do you want to make a new query? y/n\").startswith('y')\n",
    "    if restart:\n",
    "        start()\n",
    "    else:\n",
    "        print 'Good bye!'\n",
    "\n",
    "create_index() \n",
    "start() \n",
    "\n",
    "\n",
    "\n"
   ]
  },
  {
   "cell_type": "code",
   "execution_count": 6,
   "metadata": {},
   "outputs": [
    {
     "data": {
      "text/plain": [
       "'00012'"
      ]
     },
     "execution_count": 6,
     "metadata": {},
     "output_type": "execute_result"
    }
   ],
   "source": [
    "'12'.zfill(5)"
   ]
  },
  {
   "cell_type": "code",
   "execution_count": 22,
   "metadata": {},
   "outputs": [
    {
     "name": "stdout",
     "output_type": "stream",
     "text": [
      "1 1 1\n",
      "2 4 8\n",
      "3 9 27\n",
      "4 16 64\n",
      "5 25 125\n",
      "6 36 216\n",
      "7 49 343\n",
      "8 64 512\n",
      "9 81 729\n",
      "10 100 1000\n"
     ]
    }
   ],
   "source": [
    "for x in range(1,11):\n",
    "    #print str(x).rjust(2), str(x*x).rjust(3), str(x*x*x).rjust(4)\n",
    "    print str(x), str(x*x), str(x*x*x)"
   ]
  },
  {
   "cell_type": "code",
   "execution_count": 15,
   "metadata": {},
   "outputs": [],
   "source": [
    "f = open('test.txt','a')\n",
    "newcontent = '\\nhola mundo'\n",
    "f.write(newcontent)\n",
    "f.close()"
   ]
  },
  {
   "cell_type": "code",
   "execution_count": 16,
   "metadata": {},
   "outputs": [
    {
     "data": {
      "text/plain": [
       "['this is first line\\n',\n",
       " 'this is second line\\n',\n",
       " 'this is final line\\n',\n",
       " 'hola mundo']"
      ]
     },
     "execution_count": 16,
     "metadata": {},
     "output_type": "execute_result"
    }
   ],
   "source": [
    "with open(\"test.txt\",'r') as f:\n",
    "    read_data = f.readlines()\n",
    "f.close()\n",
    "read_data"
   ]
  },
  {
   "cell_type": "code",
   "execution_count": 27,
   "metadata": {},
   "outputs": [],
   "source": [
    "import json"
   ]
  },
  {
   "cell_type": "code",
   "execution_count": 28,
   "metadata": {},
   "outputs": [
    {
     "data": {
      "text/plain": [
       "'[1, \"simple\", \"list\"]'"
      ]
     },
     "execution_count": 28,
     "metadata": {},
     "output_type": "execute_result"
    }
   ],
   "source": [
    "json.dumps([1,'simple','list'])"
   ]
  },
  {
   "cell_type": "code",
   "execution_count": 44,
   "metadata": {},
   "outputs": [],
   "source": [
    "p = {key:value for key,value in enumerate([1,2,3,4,5])}\n",
    "f = open('test.txt','w')\n",
    "json.dump(p,f)"
   ]
  },
  {
   "cell_type": "code",
   "execution_count": 45,
   "metadata": {},
   "outputs": [
    {
     "name": "stdout",
     "output_type": "stream",
     "text": [
      "[]\n",
      "{u'1': 2, u'0': 1, u'3': 4, u'2': 3, u'4': 5}\n"
     ]
    }
   ],
   "source": [
    "x = []\n",
    "print x\n",
    "f.close()\n",
    "f = open('test.txt','r')\n",
    "x = json.load(f)\n",
    "print x"
   ]
  },
  {
   "cell_type": "code",
   "execution_count": 50,
   "metadata": {},
   "outputs": [
    {
     "data": {
      "text/plain": [
       "u'C:\\\\Users\\\\andres'"
      ]
     },
     "execution_count": 50,
     "metadata": {},
     "output_type": "execute_result"
    }
   ],
   "source": [
    "pwd"
   ]
  },
  {
   "cell_type": "code",
   "execution_count": 11,
   "metadata": {},
   "outputs": [
    {
     "data": {
      "text/plain": [
       "['file1.txt', 'file2.txt']"
      ]
     },
     "execution_count": 11,
     "metadata": {},
     "output_type": "execute_result"
    }
   ],
   "source": [
    "import os, fnmatch\n",
    "\n",
    "listOfFiles = [f for f in os.listdir('.') if os.path.isfile(f) and f.endswith('.txt') and f.startswith('file')]\n",
    "listOfFiles\n"
   ]
  }
 ],
 "metadata": {
  "kernelspec": {
   "display_name": "Python 2",
   "language": "python",
   "name": "python2"
  },
  "language_info": {
   "codemirror_mode": {
    "name": "ipython",
    "version": 2
   },
   "file_extension": ".py",
   "mimetype": "text/x-python",
   "name": "python",
   "nbconvert_exporter": "python",
   "pygments_lexer": "ipython2",
   "version": "2.7.13"
  }
 },
 "nbformat": 4,
 "nbformat_minor": 2
}
