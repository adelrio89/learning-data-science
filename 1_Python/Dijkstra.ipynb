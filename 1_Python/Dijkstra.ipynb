{
 "cells": [
  {
   "cell_type": "code",
   "execution_count": 2,
   "metadata": {},
   "outputs": [
    {
     "name": "stdout",
     "output_type": "stream",
     "text": [
      "[0, 7, 9, 20, 23, 11]\n"
     ]
    }
   ],
   "source": [
    "'''This implementation of the Dijkstra algorithm represents the graph as two dictionaries: one with the the vertices of the graph\n",
    "as keys and theirs adjacents neighboors as a list of string representations of numbers as values of the dic. The second dic\n",
    "has vertices as keys and weights of the links to vertices' adjacents as values'''\n",
    "\n",
    "graph_rel = {'1':['2','3','6'],'2':['1','3','4'], '3':['1','2','4','6'],'4':['2','3','5'],'5':['4','6'],'6':['1','3','5']}\n",
    "graph_wei = {'1':[7,9,14],'2':[7,10,15], '3':[9,10,11,2],'4':[15,11,6],'5':[6,9],'6':[14,2,9]}\n",
    "D = [9999999] * len(graph_rel.keys())\n",
    "marked = []\n",
    "\n",
    "#This variable can be any of the vertices: '1','2','3',...,'6':\n",
    "node = '1'\n",
    "nodeInd = int(node) - 1\n",
    "D[nodeInd] = 0 \n",
    "while len(marked) < len(D): \n",
    "    disN = D[nodeInd]\n",
    "    neighboors = graph_rel[node]\n",
    "    for nei in neighboors:\n",
    "        ind = graph_rel[node].index(nei)\n",
    "        disT = disN + graph_wei[node][ind]\n",
    "        disV = D[int(nei)-1]\n",
    "        if disT < disV:\n",
    "            D[int(nei)-1] = disT\n",
    "    #Add current node to marked list\n",
    "    marked.append(node)\n",
    "    #Get a node from the neighboors of the current node as the new current node\n",
    "    node = neighboors.pop()\n",
    "    nodeInd = int(node) - 1\n",
    "    #Check if the new node has the min weight from the D list. If so, break the cycle and continue\n",
    "    #execution of the main while. Otherwise, get a new neighboor as the current node and check again\n",
    "    while marked.count(node) != 0:\n",
    "        if D[nodeInd] != min(D):\n",
    "            node = neighboors.pop()\n",
    "            nodeInd = int(node) - 1 \n",
    "        else:\n",
    "            break\n",
    "print D    \n",
    "    "
   ]
  },
  {
   "cell_type": "code",
   "execution_count": 1,
   "metadata": {},
   "outputs": [
    {
     "name": "stdout",
     "output_type": "stream",
     "text": [
      "Write the name (w/o extension .txt) of the file where the graph is defined (file must be a .txt): graph\n",
      "graph.txt\n",
      "The nodes of the graph are: \n",
      "A C B E D F \n",
      "Which node do you want the algorithm to calculate the min distance to the other nodes from?: F\n",
      "[11, 12, 2, 13, 9, 0]\n"
     ]
    }
   ],
   "source": [
    "'''This is the version 2 of the implementation of the dijkstra algorithm. This time the code reads the graph from a text file \n",
    "the user can enter and so can the user choose the initial node for the execution of the algorithm'''\n",
    "\n",
    "graph_rel = {}\n",
    "graph_wei = {}\n",
    "graph_map = {}\n",
    "\n",
    "def read_graph(filename):\n",
    "    global graph_rel,graph_wei,graph_map\n",
    "    with open(filename) as f:\n",
    "        data = f.readlines()\n",
    "        weights_ind = data.index('WEIGHTS\\n')\n",
    "        links = data[1:weights_ind]\n",
    "        weights = data[weights_ind+1:]\n",
    "        for i,link in enumerate(links):\n",
    "            source = link.split()[0]\n",
    "            nei = link.split()[1:]\n",
    "            graph_rel[source] = nei\n",
    "            graph_map[source] = i\n",
    "        for wei in weights:\n",
    "            source = wei.split()[0]\n",
    "            nei_wei = wei.split()[1:]\n",
    "            nei_wei = map(int, nei_wei)\n",
    "            graph_wei[source] = nei_wei\n",
    "\n",
    "\n",
    "def exe_dijkstra(start):\n",
    "    D = [9999999] * len(graph_rel.keys())\n",
    "    marked = []\n",
    "\n",
    "    #This variable can be any of the vertices: \n",
    "    node = start\n",
    "    nodeInd = graph_map[node]\n",
    "    D[nodeInd] = 0 \n",
    "    while len(marked) < len(D): \n",
    "        disN = D[nodeInd]\n",
    "        neighboors = graph_rel[node]\n",
    "        for nei in neighboors:\n",
    "            ind = graph_rel[node].index(nei)\n",
    "            disT = disN + graph_wei[node][ind]\n",
    "            disV = D[graph_map[nei]]\n",
    "            if disT < disV:\n",
    "                D[graph_map[nei]] = disT\n",
    "        #Add current node to marked list\n",
    "        marked.append(node)\n",
    "        #Get a node from the neighboors of the current node as the new current node\n",
    "        node = neighboors.pop()\n",
    "        nodeInd = graph_map[node]\n",
    "        #Check if the new node has the min weight from the D list. If so, break the cycle and continue\n",
    "        #execution of the main while. Otherwise, get a new neighboor as the current node and check again\n",
    "        while marked.count(node) != 0:\n",
    "            if D[nodeInd] != min(D):\n",
    "                node = neighboors.pop()\n",
    "                nodeInd = graph_map[node]\n",
    "            else:\n",
    "                break\n",
    "    print D    \n",
    "\n",
    "'''From here on is the code to call the read_graph and exe_dijkstra functions'''    \n",
    "    \n",
    "filename = raw_input(\"Write the name (w/o extension .txt) of the file where the graph is defined (file must be a .txt): \")\n",
    "filename = ''.join([filename,\".txt\"])\n",
    "print filename\n",
    "read_graph(filename)\n",
    "print \"The nodes of the graph are: \"\n",
    "nodes = ''\n",
    "for i in graph_rel.keys():\n",
    "    nodes = nodes + i + ' '\n",
    "print nodes\n",
    "start = raw_input(\"Which node do you want the algorithm to calculate the min distance to the other nodes from?: \")\n",
    "exe_dijkstra(start)\n"
   ]
  },
  {
   "cell_type": "code",
   "execution_count": null,
   "metadata": {},
   "outputs": [],
   "source": []
  }
 ],
 "metadata": {
  "kernelspec": {
   "display_name": "Python 2",
   "language": "python",
   "name": "python2"
  },
  "language_info": {
   "codemirror_mode": {
    "name": "ipython",
    "version": 2
   },
   "file_extension": ".py",
   "mimetype": "text/x-python",
   "name": "python",
   "nbconvert_exporter": "python",
   "pygments_lexer": "ipython2",
   "version": "2.7.13"
  }
 },
 "nbformat": 4,
 "nbformat_minor": 2
}
